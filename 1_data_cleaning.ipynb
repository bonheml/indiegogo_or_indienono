{
 "cells": [
  {
   "cell_type": "markdown",
   "metadata": {},
   "source": [
    "<header>\n",
    "    <h1>CA4010 - Data warehousing and Data mining</h1>\n",
    "    <h2>Continuous assessment project</h2>\n",
    "</header>\n",
    "<p>\n",
    "    For this project, we want to predict if a project submitted to \n",
    "    <a href=\"https://www.indiegogo.com\">indiegogo.com</a> will or will not be funded.\n",
    "    For this purpose, we'll use a\n",
    "    <a href=\"https://www.kaggle.com/kingburrito666/indiegogo-project-statistics/data\">\n",
    "    dataset from kaggle containing one year of indiegogo projects.</a>\n",
    "    The version used here is the concatenation of all csv files using the given 'combiner.py'.<br/>\n",
    "    However, some modifications has been made from combiner.py:\n",
    "    <ul>\n",
    "        <li>\n",
    "            One row was normalized : <i>in_forever_funding</i> was passed to 'True' instead of 'null' to avoid\n",
    "            type warning at loading time and use boolean type for this attribute.\n",
    "        </li>\n",
    "        <li>\n",
    "            The file was saved as tsv (tab separated values) instead of csv for a better readability.\n",
    "        </li>\n",
    "    </ul>\n",
    "</p>\n",
    "<p>\n",
    "    This notebook will decribe and show how we'll clean this dataset and what will be the attributes\n",
    "    of the dataset we will use for all our further analysis.\n",
    "</p>"
   ]
  },
  {
   "cell_type": "markdown",
   "metadata": {},
   "source": [
    "<h2>Overview of the dataset</h2>\n",
    "<p>\n",
    "    We'll first detail the dataset as it is and analyze it.\n",
    "</p>"
   ]
  },
  {
   "cell_type": "code",
   "execution_count": 30,
   "metadata": {},
   "outputs": [],
   "source": [
    "import pandas as pd"
   ]
  },
  {
   "cell_type": "code",
   "execution_count": 31,
   "metadata": {},
   "outputs": [
    {
     "data": {
      "text/plain": [
       "(1720022, 21)"
      ]
     },
     "execution_count": 31,
     "metadata": {},
     "output_type": "execute_result"
    }
   ],
   "source": [
    "infile = 'indiegogo_raw_data.tsv'\n",
    "dataset = pd.read_csv(infile, sep='\\t')\n",
    "dataset.shape"
   ]
  },
  {
   "cell_type": "markdown",
   "metadata": {},
   "source": [
    "<p>\n",
    "    We can see that the dataset contains <b>21 attributes</b>, which is way too much.\n",
    "    We'll have to remove the less interesting ones and keep between <b>6 and 8 attributes</b>.\n",
    "    It contains also more that <b>1 millions projects</b> which seems to be a very high number of \n",
    "    projects for only one year.\n",
    "</p>"
   ]
  },
  {
   "cell_type": "code",
   "execution_count": 3,
   "metadata": {},
   "outputs": [
    {
     "data": {
      "text/html": [
       "<div>\n",
       "<style>\n",
       "    .dataframe thead tr:only-child th {\n",
       "        text-align: right;\n",
       "    }\n",
       "\n",
       "    .dataframe thead th {\n",
       "        text-align: left;\n",
       "    }\n",
       "\n",
       "    .dataframe tbody tr th {\n",
       "        vertical-align: top;\n",
       "    }\n",
       "</style>\n",
       "<table border=\"1\" class=\"dataframe\">\n",
       "  <thead>\n",
       "    <tr style=\"text-align: right;\">\n",
       "      <th></th>\n",
       "      <th>id</th>\n",
       "      <th>title</th>\n",
       "      <th>nearest_five_percent</th>\n",
       "      <th>tagline</th>\n",
       "      <th>cached_collected_pledges_count</th>\n",
       "      <th>igg_image_url</th>\n",
       "      <th>compressed_image_url</th>\n",
       "      <th>balance</th>\n",
       "      <th>currency_code</th>\n",
       "      <th>amt_time_left</th>\n",
       "      <th>...</th>\n",
       "      <th>category_url</th>\n",
       "      <th>category_name</th>\n",
       "      <th>category_slug</th>\n",
       "      <th>card_type</th>\n",
       "      <th>collected_percentage</th>\n",
       "      <th>partner_name</th>\n",
       "      <th>in_forever_funding</th>\n",
       "      <th>friend_contributors</th>\n",
       "      <th>friend_team_members</th>\n",
       "      <th>source_url</th>\n",
       "    </tr>\n",
       "  </thead>\n",
       "  <tbody>\n",
       "    <tr>\n",
       "      <th>0</th>\n",
       "      <td>773971</td>\n",
       "      <td>Lasers, Lasers everywhere! Then I can make som...</td>\n",
       "      <td>100</td>\n",
       "      <td>Down The Rabbit Hole is wanting to expand into...</td>\n",
       "      <td>43</td>\n",
       "      <td>https://c1.iggcdn.com/indiegogo-media-prod-cld...</td>\n",
       "      <td>https://c1.iggcdn.com/indiegogo-media-prod-cld...</td>\n",
       "      <td>?520</td>\n",
       "      <td>GBP</td>\n",
       "      <td>No time left</td>\n",
       "      <td>...</td>\n",
       "      <td>/explore/small_business</td>\n",
       "      <td>Small Business</td>\n",
       "      <td>small_business</td>\n",
       "      <td>project</td>\n",
       "      <td>104%</td>\n",
       "      <td>null</td>\n",
       "      <td>False</td>\n",
       "      <td>[]</td>\n",
       "      <td>[]</td>\n",
       "      <td>https://www.indiegogo.com/explore#/browse/landing</td>\n",
       "    </tr>\n",
       "    <tr>\n",
       "      <th>1</th>\n",
       "      <td>1820996</td>\n",
       "      <td>Support Kanekta!</td>\n",
       "      <td>100</td>\n",
       "      <td>Support the creation of Kanekta, every $1 you ...</td>\n",
       "      <td>11</td>\n",
       "      <td>https://c1.iggcdn.com/indiegogo-media-prod-cld...</td>\n",
       "      <td>https://c1.iggcdn.com/indiegogo-media-prod-cld...</td>\n",
       "      <td>$511</td>\n",
       "      <td>CAD</td>\n",
       "      <td>No time left</td>\n",
       "      <td>...</td>\n",
       "      <td>/explore/small_business</td>\n",
       "      <td>Small Business</td>\n",
       "      <td>small_business</td>\n",
       "      <td>project</td>\n",
       "      <td>102%</td>\n",
       "      <td>null</td>\n",
       "      <td>False</td>\n",
       "      <td>[]</td>\n",
       "      <td>[]</td>\n",
       "      <td>https://www.indiegogo.com/explore#/browse/landing</td>\n",
       "    </tr>\n",
       "    <tr>\n",
       "      <th>2</th>\n",
       "      <td>335364</td>\n",
       "      <td>Maise Designs at PCC!</td>\n",
       "      <td>100</td>\n",
       "      <td>I've found myself, due to family sicknesses, n...</td>\n",
       "      <td>6</td>\n",
       "      <td>https://c1.iggcdn.com/indiegogo-media-prod-cld...</td>\n",
       "      <td>https://c1.iggcdn.com/indiegogo-media-prod-cld...</td>\n",
       "      <td>$510</td>\n",
       "      <td>USD</td>\n",
       "      <td>No time left</td>\n",
       "      <td>...</td>\n",
       "      <td>/explore/small_business</td>\n",
       "      <td>Small Business</td>\n",
       "      <td>small_business</td>\n",
       "      <td>project</td>\n",
       "      <td>102%</td>\n",
       "      <td>null</td>\n",
       "      <td>False</td>\n",
       "      <td>[]</td>\n",
       "      <td>[]</td>\n",
       "      <td>https://www.indiegogo.com/explore#/browse/landing</td>\n",
       "    </tr>\n",
       "    <tr>\n",
       "      <th>3</th>\n",
       "      <td>84385</td>\n",
       "      <td>Moved by Design</td>\n",
       "      <td>100</td>\n",
       "      <td>Moved by Design offers a holistic service that...</td>\n",
       "      <td>100</td>\n",
       "      <td>https://c1.iggcdn.com/indiegogo-media-prod-cld...</td>\n",
       "      <td>https://c1.iggcdn.com/indiegogo-media-prod-cld...</td>\n",
       "      <td>$507</td>\n",
       "      <td>USD</td>\n",
       "      <td>No time left</td>\n",
       "      <td>...</td>\n",
       "      <td>/explore/small_business</td>\n",
       "      <td>Small Business</td>\n",
       "      <td>small_business</td>\n",
       "      <td>project</td>\n",
       "      <td>101%</td>\n",
       "      <td>null</td>\n",
       "      <td>False</td>\n",
       "      <td>[]</td>\n",
       "      <td>[]</td>\n",
       "      <td>https://www.indiegogo.com/explore#/browse/landing</td>\n",
       "    </tr>\n",
       "    <tr>\n",
       "      <th>4</th>\n",
       "      <td>613091</td>\n",
       "      <td>Help Local Artisans Become Official Non-Profit...</td>\n",
       "      <td>100</td>\n",
       "      <td>Help our group of artisans obtain legal status...</td>\n",
       "      <td>15</td>\n",
       "      <td>https://c1.iggcdn.com/indiegogo-media-prod-cld...</td>\n",
       "      <td>https://c1.iggcdn.com/indiegogo-media-prod-cld...</td>\n",
       "      <td>$505</td>\n",
       "      <td>USD</td>\n",
       "      <td>No time left</td>\n",
       "      <td>...</td>\n",
       "      <td>/explore/small_business</td>\n",
       "      <td>Small Business</td>\n",
       "      <td>small_business</td>\n",
       "      <td>project</td>\n",
       "      <td>101%</td>\n",
       "      <td>null</td>\n",
       "      <td>False</td>\n",
       "      <td>[]</td>\n",
       "      <td>[]</td>\n",
       "      <td>https://www.indiegogo.com/explore#/browse/landing</td>\n",
       "    </tr>\n",
       "  </tbody>\n",
       "</table>\n",
       "<p>5 rows × 21 columns</p>\n",
       "</div>"
      ],
      "text/plain": [
       "        id                                              title  \\\n",
       "0   773971  Lasers, Lasers everywhere! Then I can make som...   \n",
       "1  1820996                                  Support Kanekta!    \n",
       "2   335364                              Maise Designs at PCC!   \n",
       "3    84385                                    Moved by Design   \n",
       "4   613091  Help Local Artisans Become Official Non-Profit...   \n",
       "\n",
       "   nearest_five_percent                                            tagline  \\\n",
       "0                   100  Down The Rabbit Hole is wanting to expand into...   \n",
       "1                   100  Support the creation of Kanekta, every $1 you ...   \n",
       "2                   100  I've found myself, due to family sicknesses, n...   \n",
       "3                   100  Moved by Design offers a holistic service that...   \n",
       "4                   100  Help our group of artisans obtain legal status...   \n",
       "\n",
       "   cached_collected_pledges_count  \\\n",
       "0                              43   \n",
       "1                              11   \n",
       "2                               6   \n",
       "3                             100   \n",
       "4                              15   \n",
       "\n",
       "                                       igg_image_url  \\\n",
       "0  https://c1.iggcdn.com/indiegogo-media-prod-cld...   \n",
       "1  https://c1.iggcdn.com/indiegogo-media-prod-cld...   \n",
       "2  https://c1.iggcdn.com/indiegogo-media-prod-cld...   \n",
       "3  https://c1.iggcdn.com/indiegogo-media-prod-cld...   \n",
       "4  https://c1.iggcdn.com/indiegogo-media-prod-cld...   \n",
       "\n",
       "                                compressed_image_url balance currency_code  \\\n",
       "0  https://c1.iggcdn.com/indiegogo-media-prod-cld...    ?520           GBP   \n",
       "1  https://c1.iggcdn.com/indiegogo-media-prod-cld...    $511           CAD   \n",
       "2  https://c1.iggcdn.com/indiegogo-media-prod-cld...    $510           USD   \n",
       "3  https://c1.iggcdn.com/indiegogo-media-prod-cld...    $507           USD   \n",
       "4  https://c1.iggcdn.com/indiegogo-media-prod-cld...    $505           USD   \n",
       "\n",
       "  amt_time_left                        ...                          \\\n",
       "0  No time left                        ...                           \n",
       "1  No time left                        ...                           \n",
       "2  No time left                        ...                           \n",
       "3  No time left                        ...                           \n",
       "4  No time left                        ...                           \n",
       "\n",
       "              category_url   category_name   category_slug card_type  \\\n",
       "0  /explore/small_business  Small Business  small_business   project   \n",
       "1  /explore/small_business  Small Business  small_business   project   \n",
       "2  /explore/small_business  Small Business  small_business   project   \n",
       "3  /explore/small_business  Small Business  small_business   project   \n",
       "4  /explore/small_business  Small Business  small_business   project   \n",
       "\n",
       "  collected_percentage partner_name in_forever_funding  friend_contributors  \\\n",
       "0                 104%         null              False                   []   \n",
       "1                 102%         null              False                   []   \n",
       "2                 102%         null              False                   []   \n",
       "3                 101%         null              False                   []   \n",
       "4                 101%         null              False                   []   \n",
       "\n",
       "  friend_team_members                                         source_url  \n",
       "0                  []  https://www.indiegogo.com/explore#/browse/landing  \n",
       "1                  []  https://www.indiegogo.com/explore#/browse/landing  \n",
       "2                  []  https://www.indiegogo.com/explore#/browse/landing  \n",
       "3                  []  https://www.indiegogo.com/explore#/browse/landing  \n",
       "4                  []  https://www.indiegogo.com/explore#/browse/landing  \n",
       "\n",
       "[5 rows x 21 columns]"
      ]
     },
     "execution_count": 3,
     "metadata": {},
     "output_type": "execute_result"
    }
   ],
   "source": [
    "dataset[:5]"
   ]
  },
  {
   "cell_type": "markdown",
   "metadata": {},
   "source": [
    "<h2>Removing uneeded projects</h2>\n",
    "<p>\n",
    "As we want to know if a project will be funded or not, some projects contained in this dataset are not relevant for us. We will remove all projects which are:\n",
    "    <ul>\n",
    "        <li>Funded for ever</li>\n",
    "        <li>Still running</li>\n",
    "        <li>Duplicated</li>\n",
    "    </ul>\n",
    "</p>\n",
    "<p>We first remove <b>forever funding projects</b> which are not relevant for our needs</p>"
   ]
  },
  {
   "cell_type": "code",
   "execution_count": 32,
   "metadata": {},
   "outputs": [
    {
     "data": {
      "text/plain": [
       "(1553639, 21)"
      ]
     },
     "execution_count": 32,
     "metadata": {},
     "output_type": "execute_result"
    }
   ],
   "source": [
    "dataset = dataset[dataset.in_forever_funding != True]\n",
    "dataset.shape"
   ]
  },
  {
   "cell_type": "markdown",
   "metadata": {},
   "source": [
    "<p>We're not interested by funding percentage of projects which are <b>still running</b></p>"
   ]
  },
  {
   "cell_type": "code",
   "execution_count": 33,
   "metadata": {},
   "outputs": [
    {
     "data": {
      "text/plain": [
       "(1407807, 21)"
      ]
     },
     "execution_count": 33,
     "metadata": {},
     "output_type": "execute_result"
    }
   ],
   "source": [
    "dataset = dataset[dataset.amt_time_left == 'No time left']\n",
    "dataset.shape"
   ]
  },
  {
   "cell_type": "markdown",
   "metadata": {},
   "source": [
    "<p>Now that we have removed irrelevant projects, let's check if this dataset contains <b>duplicated projects</b></p>"
   ]
  },
  {
   "cell_type": "code",
   "execution_count": 34,
   "metadata": {},
   "outputs": [
    {
     "data": {
      "text/plain": [
       "1261489"
      ]
     },
     "execution_count": 34,
     "metadata": {},
     "output_type": "execute_result"
    }
   ],
   "source": [
    "dataset.shape[0] - len(set(dataset['id']))"
   ]
  },
  {
   "cell_type": "markdown",
   "metadata": {},
   "source": [
    "<p>\n",
    "    This dataset contains more than <b>1 million of duplicated projects</b>,\n",
    "    that is to say the <b>majority of this dataset</b> is project duplication !<br/>\n",
    "    Let's remove duplicated projects.\n",
    "</p>"
   ]
  },
  {
   "cell_type": "code",
   "execution_count": 35,
   "metadata": {},
   "outputs": [
    {
     "data": {
      "text/plain": [
       "(146318, 21)"
      ]
     },
     "execution_count": 35,
     "metadata": {},
     "output_type": "execute_result"
    }
   ],
   "source": [
    "dataset = dataset.drop_duplicates(subset=['id'], keep='last')\n",
    "dataset.shape"
   ]
  },
  {
   "cell_type": "markdown",
   "metadata": {},
   "source": [
    "<h2>Cleaning values</h2>\n",
    "<p>\n",
    "    Some values have a numerical and a string part.\n",
    "    As they are not usable as it is, we want transform them into <b>numerical values</b> and get rid of the string part.\n",
    "    This transformation concern:\n",
    "    <ul>\n",
    "        <li>balance (the amount given by the crowdfunders)</li>\n",
    "        <li>collected percentage</li>\n",
    "    </ul>\n",
    "</p>"
   ]
  },
  {
   "cell_type": "code",
   "execution_count": 36,
   "metadata": {},
   "outputs": [],
   "source": [
    "dataset.balance = dataset.balance.apply(lambda x: ''.join(c for c in x if c.isdigit()))\n",
    "dataset.balance = dataset.balance.apply(pd.to_numeric)"
   ]
  },
  {
   "cell_type": "markdown",
   "metadata": {},
   "source": [
    "<p>Now, we'll check if the other balance values have all the same currency.</p>"
   ]
  },
  {
   "cell_type": "code",
   "execution_count": 37,
   "metadata": {},
   "outputs": [
    {
     "data": {
      "text/plain": [
       "{'AUD', 'CAD', 'EUR', 'GBP', 'USD'}"
      ]
     },
     "execution_count": 37,
     "metadata": {},
     "output_type": "execute_result"
    }
   ],
   "source": [
    "set(dataset.currency_code)"
   ]
  },
  {
   "cell_type": "markdown",
   "metadata": {},
   "source": [
    "<p>\n",
    "    We can see that the currency of balance can vary.\n",
    "    For consistency, we will convert all currencies to <b>USD</b>.\n",
    "</p>"
   ]
  },
  {
   "cell_type": "code",
   "execution_count": 38,
   "metadata": {},
   "outputs": [],
   "source": [
    "change_currencies = {'AUD': 0.78, 'CAD': 0.80, 'EUR': 1.18, 'GBP': 1.33, 'USD': 1}\n",
    "dataset.balance = dataset.apply(lambda row: change_currencies[row['currency_code']] * row['balance'], axis=1)"
   ]
  },
  {
   "cell_type": "markdown",
   "metadata": {},
   "source": [
    "<p>Then we convert percentage values removing the '%' sign.</p>"
   ]
  },
  {
   "cell_type": "code",
   "execution_count": 39,
   "metadata": {},
   "outputs": [],
   "source": [
    "dataset.collected_percentage = dataset.collected_percentage.apply(lambda x: ''.join(c for c in x if c.isdigit()))\n",
    "dataset.collected_percentage = dataset.collected_percentage.apply(lambda x: pd.to_numeric(x, downcast='float'))"
   ]
  },
  {
   "cell_type": "markdown",
   "metadata": {},
   "source": [
    "<p>As we have the amount of fund collected and the collected percentage, it will be interesting to compute the <b>targeted amount</b> of each project. As we can't know the targeted amount of projects with <b>collected_percentage of 0</b>, theses projects will unfortunately won't be usable. Indeed, the amount required is probably one of the most important keys of project success. So we'll remove the projects with collected percentage of 0</p>"
   ]
  },
  {
   "cell_type": "code",
   "execution_count": 40,
   "metadata": {},
   "outputs": [],
   "source": [
    "dataset = dataset[dataset.collected_percentage > 0]"
   ]
  },
  {
   "cell_type": "code",
   "execution_count": 49,
   "metadata": {},
   "outputs": [],
   "source": [
    "dataset['target_amount'] = dataset.apply(lambda row: (row['balance'] * 100) / row['collected_percentage'], axis=1)"
   ]
  },
  {
   "cell_type": "markdown",
   "metadata": {},
   "source": [
    "<p>\n",
    "    Some other values are not usable as they are because they are to complex, such as:\n",
    "    <ul>\n",
    "        <li>title</li>\n",
    "        <li>tagline</li>\n",
    "        <li>partner_name</li>\n",
    "    </ul>\n",
    "</p>\n",
    "<p>\n",
    "    <b>Title</b> and <b>tagline</b> are still very interesting values which may \n",
    "    influence the success of a campaign.\n",
    "    We can use the <b>number of character</b> of each one to see if a short or long title (or tagline)\n",
    "    has an impact on the success of a campaign.\n",
    "</p>"
   ]
  },
  {
   "cell_type": "code",
   "execution_count": 53,
   "metadata": {},
   "outputs": [],
   "source": [
    "dataset.title = dataset.title.apply(lambda x: len(str(x)))"
   ]
  },
  {
   "cell_type": "code",
   "execution_count": 54,
   "metadata": {},
   "outputs": [],
   "source": [
    "dataset.tagline = dataset.tagline.apply(lambda x: len(str(x)))"
   ]
  },
  {
   "cell_type": "markdown",
   "metadata": {},
   "source": [
    "<p>\n",
    "    <b>Partner name</b> is not usable as it is because searching for similar partner_name won't\n",
    "    be of a great help for our analysis. However knowing if having a partner help a campaign to succeed is\n",
    "    much more usable. Let's convert the partner_name values to <b>boolean values</b>:\n",
    "    <ul>\n",
    "        <li><b>True</b> if the campaign owner has one or more partners</li>\n",
    "        <li><b>False</b> otherwise</li>\n",
    "    </ul>\n",
    "</p>"
   ]
  },
  {
   "cell_type": "code",
   "execution_count": 55,
   "metadata": {},
   "outputs": [],
   "source": [
    "dataset.partner_name = dataset.partner_name.apply(lambda x: False if x == 'null' else True)"
   ]
  },
  {
   "cell_type": "markdown",
   "metadata": {},
   "source": [
    "<p>\n",
    "    Same problem with <b>friend_team_members</b> and <b>friend_contributors</b>\n",
    "    Let's convert these to <b>boolean values</b>:\n",
    "    <ul>\n",
    "        <li><b>True</b> if the campaign owner has one or more friend which contribute or in its team</li>\n",
    "        <li><b>False</b> otherwise</li>\n",
    "    </ul>\n",
    "</p>"
   ]
  },
  {
   "cell_type": "code",
   "execution_count": 56,
   "metadata": {},
   "outputs": [],
   "source": [
    "dataset.friend_team_members = dataset.friend_team_members.apply(lambda x: False if x == '[]' else True)\n",
    "dataset.friend_contributors = dataset.friend_contributors.apply(lambda x: False if x == '[]' else True)"
   ]
  },
  {
   "cell_type": "markdown",
   "metadata": {},
   "source": [
    "<h2>Cleaning attributes</h2>\n",
    "<p>\n",
    "    After the changes we've made, we'll change the name of some attributes for consistency:\n",
    "    <li>\n",
    "        Because it now holds boolean values, <b>partner_name</b> will become <b>has_partner</b>\n",
    "    </li>\n",
    "    <li>\n",
    "        <b>Title</b> and <b>tagline</b> now holds their length instead of a text, \n",
    "        and will be renames into <b>title_len</b> and <b>tagline_len</b>\n",
    "    </li>\n",
    "    <li>\n",
    "        <b>cached_collected_pledges_count</b> name is just way too long and will be \n",
    "        simplified to <b>pledges_count</b>\n",
    "    </li>\n",
    "</p>"
   ]
  },
  {
   "cell_type": "code",
   "execution_count": 57,
   "metadata": {},
   "outputs": [],
   "source": [
    "dataset = dataset.rename(columns={'cached_collected_pledges_count': 'pledges_count',\n",
    "                        'partner_name': 'has_partner', 'title': 'title_len',\n",
    "                        'tagline': 'tagline_len'})"
   ]
  },
  {
   "cell_type": "markdown",
   "metadata": {},
   "source": [
    "<p>\n",
    "    We also have many useless attributes which we'll drop.\n",
    "    <ul>\n",
    "        <li><b>igg_image_url, compressed_image_url, url, source_url and id</b>: are <b>unique identifiers</b> and thus are not suitabe for our needs</li>\n",
    "        <li><b>amt_time_left and in_forever_funding</b>: are not relevant because we want to focus on <b>terminated projects</b> to see if they are funded or not. So in that case, amt_time_left will always be null and in_forever_funding will alwayse be false and it's irrelevant to base our prediction on data which as <b>always the same value</b>.</li>\n",
    "        <li><b>balance</b>: is a duplication of the collected percentage in USD version</li>\n",
    "        <li><b>category_name</b>: is a text version of category_slug. We don't need it twice</li>\n",
    "        <li><b>nearest_five_percent</b>: seems to be the rounded collected_percentage value. As we have the collected percentage, this a uselss duplicate.</li>\n",
    "    </ul>\n",
    "</p>"
   ]
  },
  {
   "cell_type": "code",
   "execution_count": 58,
   "metadata": {},
   "outputs": [],
   "source": [
    "cols_to_drop = ['nearest_five_percent', 'igg_image_url', 'compressed_image_url', 'url', \n",
    "                'category_url', 'category_name', 'amt_time_left', 'in_forever_funding',\n",
    "                'source_url', 'id', 'balance']\n",
    "dataset.drop(cols_to_drop, inplace=True, axis=1)"
   ]
  },
  {
   "cell_type": "markdown",
   "metadata": {},
   "source": [
    "<p>Now our dataset look like this:</p>"
   ]
  },
  {
   "cell_type": "code",
   "execution_count": 59,
   "metadata": {},
   "outputs": [
    {
     "data": {
      "text/html": [
       "<div>\n",
       "<style>\n",
       "    .dataframe thead tr:only-child th {\n",
       "        text-align: right;\n",
       "    }\n",
       "\n",
       "    .dataframe thead th {\n",
       "        text-align: left;\n",
       "    }\n",
       "\n",
       "    .dataframe tbody tr th {\n",
       "        vertical-align: top;\n",
       "    }\n",
       "</style>\n",
       "<table border=\"1\" class=\"dataframe\">\n",
       "  <thead>\n",
       "    <tr style=\"text-align: right;\">\n",
       "      <th></th>\n",
       "      <th>title_len</th>\n",
       "      <th>tagline_len</th>\n",
       "      <th>pledges_count</th>\n",
       "      <th>currency_code</th>\n",
       "      <th>category_slug</th>\n",
       "      <th>card_type</th>\n",
       "      <th>collected_percentage</th>\n",
       "      <th>has_partner</th>\n",
       "      <th>friend_contributors</th>\n",
       "      <th>friend_team_members</th>\n",
       "      <th>target_amount</th>\n",
       "    </tr>\n",
       "  </thead>\n",
       "  <tbody>\n",
       "    <tr>\n",
       "      <th>2505</th>\n",
       "      <td>20</td>\n",
       "      <td>65</td>\n",
       "      <td>311</td>\n",
       "      <td>USD</td>\n",
       "      <td>video_web</td>\n",
       "      <td>project</td>\n",
       "      <td>181.0</td>\n",
       "      <td>False</td>\n",
       "      <td>False</td>\n",
       "      <td>False</td>\n",
       "      <td>4997.237569</td>\n",
       "    </tr>\n",
       "    <tr>\n",
       "      <th>3945</th>\n",
       "      <td>47</td>\n",
       "      <td>99</td>\n",
       "      <td>62</td>\n",
       "      <td>USD</td>\n",
       "      <td>technology</td>\n",
       "      <td>project</td>\n",
       "      <td>1178.0</td>\n",
       "      <td>False</td>\n",
       "      <td>False</td>\n",
       "      <td>False</td>\n",
       "      <td>2564.855688</td>\n",
       "    </tr>\n",
       "    <tr>\n",
       "      <th>46157</th>\n",
       "      <td>43</td>\n",
       "      <td>93</td>\n",
       "      <td>6704</td>\n",
       "      <td>USD</td>\n",
       "      <td>technology</td>\n",
       "      <td>project</td>\n",
       "      <td>2858.0</td>\n",
       "      <td>True</td>\n",
       "      <td>False</td>\n",
       "      <td>False</td>\n",
       "      <td>19997.445766</td>\n",
       "    </tr>\n",
       "    <tr>\n",
       "      <th>52031</th>\n",
       "      <td>15</td>\n",
       "      <td>19</td>\n",
       "      <td>1</td>\n",
       "      <td>USD</td>\n",
       "      <td>video_web</td>\n",
       "      <td>project</td>\n",
       "      <td>40.0</td>\n",
       "      <td>False</td>\n",
       "      <td>False</td>\n",
       "      <td>False</td>\n",
       "      <td>2500.000000</td>\n",
       "    </tr>\n",
       "    <tr>\n",
       "      <th>52599</th>\n",
       "      <td>6</td>\n",
       "      <td>97</td>\n",
       "      <td>29</td>\n",
       "      <td>USD</td>\n",
       "      <td>technology</td>\n",
       "      <td>project</td>\n",
       "      <td>39.0</td>\n",
       "      <td>False</td>\n",
       "      <td>False</td>\n",
       "      <td>False</td>\n",
       "      <td>30202.564103</td>\n",
       "    </tr>\n",
       "  </tbody>\n",
       "</table>\n",
       "</div>"
      ],
      "text/plain": [
       "       title_len  tagline_len  pledges_count currency_code category_slug  \\\n",
       "2505          20           65            311           USD     video_web   \n",
       "3945          47           99             62           USD    technology   \n",
       "46157         43           93           6704           USD    technology   \n",
       "52031         15           19              1           USD     video_web   \n",
       "52599          6           97             29           USD    technology   \n",
       "\n",
       "      card_type  collected_percentage  has_partner  friend_contributors  \\\n",
       "2505    project                 181.0        False                False   \n",
       "3945    project                1178.0        False                False   \n",
       "46157   project                2858.0         True                False   \n",
       "52031   project                  40.0        False                False   \n",
       "52599   project                  39.0        False                False   \n",
       "\n",
       "       friend_team_members  target_amount  \n",
       "2505                 False    4997.237569  \n",
       "3945                 False    2564.855688  \n",
       "46157                False   19997.445766  \n",
       "52031                False    2500.000000  \n",
       "52599                False   30202.564103  "
      ]
     },
     "execution_count": 59,
     "metadata": {},
     "output_type": "execute_result"
    }
   ],
   "source": [
    "dataset[:5]"
   ]
  },
  {
   "cell_type": "markdown",
   "metadata": {},
   "source": [
    "<p>\n",
    "    Now that we have removed the obvious unusable attributes, we'll check if the remaining attributes can be used properly.\n",
    "</p>"
   ]
  },
  {
   "cell_type": "code",
   "execution_count": 60,
   "metadata": {},
   "outputs": [
    {
     "data": {
      "text/plain": [
       "USD    116737\n",
       "CAD      8028\n",
       "GBP      6975\n",
       "EUR      5977\n",
       "AUD      1335\n",
       "Name: currency_code, dtype: int64"
      ]
     },
     "execution_count": 60,
     "metadata": {},
     "output_type": "execute_result"
    }
   ],
   "source": [
    "dataset.currency_code.value_counts()"
   ]
  },
  {
   "cell_type": "markdown",
   "metadata": {},
   "source": [
    "<p>We can see that projects in <b>USD are a large majority</b> but it can be interesting to see if other currency are related to project succes.</p>"
   ]
  },
  {
   "cell_type": "code",
   "execution_count": 61,
   "metadata": {},
   "outputs": [
    {
     "data": {
      "text/plain": [
       "film                    43239\n",
       "music                   17116\n",
       "local_businesses        15234\n",
       "education               15052\n",
       "dance_theater           10665\n",
       "art                      7058\n",
       "health_fitness           5951\n",
       "writing_publishing       4175\n",
       "animal_rights            2585\n",
       "fashion_wearables        2447\n",
       "environment              2411\n",
       "local-businesses         1666\n",
       "phones_accessories       1642\n",
       "video_games              1374\n",
       "comics                    999\n",
       "writing-publishing        714\n",
       "travel_outdoors           687\n",
       "home                      684\n",
       "dance-theater             664\n",
       "photography               638\n",
       "health-fitness            603\n",
       "fashion-wearables         431\n",
       "productivity              346\n",
       "video-games               337\n",
       "transportation            294\n",
       "human_rights              274\n",
       "animal-rights             251\n",
       "phones-accessories        250\n",
       "audio                     170\n",
       "camera_gear               165\n",
       "                        ...  \n",
       "creative-works             30\n",
       "tech_innovation            28\n",
       "creative_works             23\n",
       "community                  22\n",
       "tabletop_games             22\n",
       "energy_green_tech          21\n",
       "animals                    21\n",
       "camera-gear                20\n",
       "community_projects         14\n",
       "tabletop-games             14\n",
       "design                     13\n",
       "spirituality               12\n",
       "web_series_tv_shows        11\n",
       "small_business             11\n",
       "energy-green-tech          11\n",
       "health                      8\n",
       "gaming                      8\n",
       "food                        7\n",
       "writing                     6\n",
       "video_web                   5\n",
       "podcasts-blogs-vlogs        4\n",
       "politics                    3\n",
       "comic                       3\n",
       "dance                       2\n",
       "religion                    2\n",
       "podcasts_blogs_vlogs        2\n",
       "fashion                     1\n",
       "sports                      1\n",
       "transmedia                  1\n",
       "theatre                     1\n",
       "Name: category_slug, Length: 70, dtype: int64"
      ]
     },
     "execution_count": 61,
     "metadata": {},
     "output_type": "execute_result"
    }
   ],
   "source": [
    "dataset.category_slug.value_counts()"
   ]
  },
  {
   "cell_type": "markdown",
   "metadata": {},
   "source": [
    "<p>Here we can see 3 things:\n",
    "    <ul>\n",
    "        <li>Some slugs use '-' and other '_'. We'll have to normalize it</li>\n",
    "        <li>There is <b>too much categories</b> and we must reduce this number to be able to use this attribute correctly</li>\n",
    "        <li>Some categories contains <b>very few projects</b> (some categories have just one project). We'll probably use this during attribute reduction.</li>\n",
    "    </ul>\n",
    "    As category cleaning is a bit more complicated than the rest of the cleaning, it'll be processed on a dedicated notebook.\n",
    "</p>"
   ]
  },
  {
   "cell_type": "code",
   "execution_count": 62,
   "metadata": {},
   "outputs": [
    {
     "data": {
      "text/plain": [
       "project    139052\n",
       "Name: card_type, dtype: int64"
      ]
     },
     "execution_count": 62,
     "metadata": {},
     "output_type": "execute_result"
    }
   ],
   "source": [
    "dataset.card_type.value_counts()"
   ]
  },
  {
   "cell_type": "code",
   "execution_count": 63,
   "metadata": {},
   "outputs": [
    {
     "data": {
      "text/plain": [
       "False    139052\n",
       "Name: friend_contributors, dtype: int64"
      ]
     },
     "execution_count": 63,
     "metadata": {},
     "output_type": "execute_result"
    }
   ],
   "source": [
    "dataset.friend_contributors.value_counts()"
   ]
  },
  {
   "cell_type": "code",
   "execution_count": 64,
   "metadata": {},
   "outputs": [
    {
     "data": {
      "text/plain": [
       "False    139052\n",
       "Name: friend_team_members, dtype: int64"
      ]
     },
     "execution_count": 64,
     "metadata": {},
     "output_type": "execute_result"
    }
   ],
   "source": [
    "dataset.friend_team_members.value_counts()"
   ]
  },
  {
   "cell_type": "markdown",
   "metadata": {},
   "source": [
    "<p><b>card_type, friend_team_members and friend_contributors</b> have only <b>one value</b>. This is unsuitable for our needs. Let's remove them.</p>"
   ]
  },
  {
   "cell_type": "code",
   "execution_count": 65,
   "metadata": {},
   "outputs": [],
   "source": [
    "cols_to_drop = ['card_type', 'friend_team_members', 'friend_contributors']\n",
    "dataset.drop(cols_to_drop, inplace=True, axis=1)"
   ]
  },
  {
   "cell_type": "markdown",
   "metadata": {},
   "source": [
    "<p>Now our dataset look like this:</p>"
   ]
  },
  {
   "cell_type": "code",
   "execution_count": 66,
   "metadata": {},
   "outputs": [
    {
     "data": {
      "text/html": [
       "<div>\n",
       "<style>\n",
       "    .dataframe thead tr:only-child th {\n",
       "        text-align: right;\n",
       "    }\n",
       "\n",
       "    .dataframe thead th {\n",
       "        text-align: left;\n",
       "    }\n",
       "\n",
       "    .dataframe tbody tr th {\n",
       "        vertical-align: top;\n",
       "    }\n",
       "</style>\n",
       "<table border=\"1\" class=\"dataframe\">\n",
       "  <thead>\n",
       "    <tr style=\"text-align: right;\">\n",
       "      <th></th>\n",
       "      <th>title_len</th>\n",
       "      <th>tagline_len</th>\n",
       "      <th>pledges_count</th>\n",
       "      <th>currency_code</th>\n",
       "      <th>category_slug</th>\n",
       "      <th>collected_percentage</th>\n",
       "      <th>has_partner</th>\n",
       "      <th>target_amount</th>\n",
       "    </tr>\n",
       "  </thead>\n",
       "  <tbody>\n",
       "    <tr>\n",
       "      <th>2505</th>\n",
       "      <td>20</td>\n",
       "      <td>65</td>\n",
       "      <td>311</td>\n",
       "      <td>USD</td>\n",
       "      <td>video_web</td>\n",
       "      <td>181.0</td>\n",
       "      <td>False</td>\n",
       "      <td>4997.237569</td>\n",
       "    </tr>\n",
       "    <tr>\n",
       "      <th>3945</th>\n",
       "      <td>47</td>\n",
       "      <td>99</td>\n",
       "      <td>62</td>\n",
       "      <td>USD</td>\n",
       "      <td>technology</td>\n",
       "      <td>1178.0</td>\n",
       "      <td>False</td>\n",
       "      <td>2564.855688</td>\n",
       "    </tr>\n",
       "    <tr>\n",
       "      <th>46157</th>\n",
       "      <td>43</td>\n",
       "      <td>93</td>\n",
       "      <td>6704</td>\n",
       "      <td>USD</td>\n",
       "      <td>technology</td>\n",
       "      <td>2858.0</td>\n",
       "      <td>True</td>\n",
       "      <td>19997.445766</td>\n",
       "    </tr>\n",
       "    <tr>\n",
       "      <th>52031</th>\n",
       "      <td>15</td>\n",
       "      <td>19</td>\n",
       "      <td>1</td>\n",
       "      <td>USD</td>\n",
       "      <td>video_web</td>\n",
       "      <td>40.0</td>\n",
       "      <td>False</td>\n",
       "      <td>2500.000000</td>\n",
       "    </tr>\n",
       "    <tr>\n",
       "      <th>52599</th>\n",
       "      <td>6</td>\n",
       "      <td>97</td>\n",
       "      <td>29</td>\n",
       "      <td>USD</td>\n",
       "      <td>technology</td>\n",
       "      <td>39.0</td>\n",
       "      <td>False</td>\n",
       "      <td>30202.564103</td>\n",
       "    </tr>\n",
       "  </tbody>\n",
       "</table>\n",
       "</div>"
      ],
      "text/plain": [
       "       title_len  tagline_len  pledges_count currency_code category_slug  \\\n",
       "2505          20           65            311           USD     video_web   \n",
       "3945          47           99             62           USD    technology   \n",
       "46157         43           93           6704           USD    technology   \n",
       "52031         15           19              1           USD     video_web   \n",
       "52599          6           97             29           USD    technology   \n",
       "\n",
       "       collected_percentage  has_partner  target_amount  \n",
       "2505                  181.0        False    4997.237569  \n",
       "3945                 1178.0        False    2564.855688  \n",
       "46157                2858.0         True   19997.445766  \n",
       "52031                  40.0        False    2500.000000  \n",
       "52599                  39.0        False   30202.564103  "
      ]
     },
     "execution_count": 66,
     "metadata": {},
     "output_type": "execute_result"
    }
   ],
   "source": [
    "dataset[:5]"
   ]
  },
  {
   "cell_type": "markdown",
   "metadata": {},
   "source": [
    "<p>We have <b>8 attributes which is good</b>. Let's save it as a tsv file which we will use for all our analysis</p>"
   ]
  },
  {
   "cell_type": "code",
   "execution_count": 67,
   "metadata": {},
   "outputs": [],
   "source": [
    "dataset.to_csv('indiegogo_cleaned_dataset.tsv', index=False, sep='\\t')"
   ]
  }
 ],
 "metadata": {
  "kernelspec": {
   "display_name": "Python 3",
   "language": "python",
   "name": "python3"
  },
  "language_info": {
   "codemirror_mode": {
    "name": "ipython",
    "version": 3
   },
   "file_extension": ".py",
   "mimetype": "text/x-python",
   "name": "python",
   "nbconvert_exporter": "python",
   "pygments_lexer": "ipython3",
   "version": "3.6.2"
  }
 },
 "nbformat": 4,
 "nbformat_minor": 1
}
