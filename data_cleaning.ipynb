{
 "cells": [
  {
   "cell_type": "markdown",
   "metadata": {},
   "source": [
    "<header>\n",
    "    <h1>CA4010 - Data warehousing and Data mining</h1>\n",
    "    <h2>Continuous assessment project</h2>\n",
    "</header>\n",
    "<p>\n",
    "    For this project, we want to predict if a project submitted to \n",
    "    <a href=\"https://www.indiegogo.com\">indiegogo.com</a> will or will not be funded.\n",
    "    For this purpose, we'll use a\n",
    "    <a href=\"https://www.kaggle.com/kingburrito666/indiegogo-project-statistics/data\">\n",
    "    dataset from kaggle containing one year of indiegogo projects.</a>\n",
    "    The version used here is the concatenation of all csv files using the given 'combiner.py'.<br/>\n",
    "    However, some modifications has been made from combiner.py:\n",
    "    <ul>\n",
    "        <li>\n",
    "            One row was normalized : <i>in_forever_funding</i> was passed to 'True' instead of 'null' to avoid\n",
    "            type warning at loading time and use boolean type for this attribute.\n",
    "        </li>\n",
    "        <li>\n",
    "            The file was saved as tsv (tab separated values) instead of csv for a better readability.\n",
    "        </li>\n",
    "    </ul>\n",
    "</p>\n",
    "<p>\n",
    "    This notebook will decribe and show how we'll clean this dataset and what will be the attributes\n",
    "    of the dataset we will use for all our further analysis.\n",
    "</p>"
   ]
  },
  {
   "cell_type": "markdown",
   "metadata": {},
   "source": [
    "<h2>Overview of the dataset</h2>\n",
    "<p>\n",
    "    We'll first detail the dataset as it is and analyze it.\n",
    "</p>"
   ]
  },
  {
   "cell_type": "code",
   "execution_count": 1,
   "metadata": {},
   "outputs": [],
   "source": [
    "import pandas as pd"
   ]
  },
  {
   "cell_type": "code",
   "execution_count": 2,
   "metadata": {},
   "outputs": [
    {
     "data": {
      "text/plain": [
       "(1720022, 21)"
      ]
     },
     "execution_count": 2,
     "metadata": {},
     "output_type": "execute_result"
    }
   ],
   "source": [
    "infile = 'indiegogo_raw_data.tsv'\n",
    "dataset = pd.read_csv(infile, sep='\\t')\n",
    "dataset.shape"
   ]
  },
  {
   "cell_type": "markdown",
   "metadata": {},
   "source": [
    "<p>\n",
    "    We can see that the dataset contains <b>21 attributes</b>, which is way too much.\n",
    "    We'll have to remove the less interesting ones and keep between <b>6 and 8 attributes</b>.\n",
    "    It contains also more that <b>1 millions projects</b> which seems to be a very high number of \n",
    "    projects for only one year.\n",
    "</p>"
   ]
  },
  {
   "cell_type": "code",
   "execution_count": 3,
   "metadata": {},
   "outputs": [
    {
     "data": {
      "text/html": [
       "<div>\n",
       "<style>\n",
       "    .dataframe thead tr:only-child th {\n",
       "        text-align: right;\n",
       "    }\n",
       "\n",
       "    .dataframe thead th {\n",
       "        text-align: left;\n",
       "    }\n",
       "\n",
       "    .dataframe tbody tr th {\n",
       "        vertical-align: top;\n",
       "    }\n",
       "</style>\n",
       "<table border=\"1\" class=\"dataframe\">\n",
       "  <thead>\n",
       "    <tr style=\"text-align: right;\">\n",
       "      <th></th>\n",
       "      <th>id</th>\n",
       "      <th>title</th>\n",
       "      <th>nearest_five_percent</th>\n",
       "      <th>tagline</th>\n",
       "      <th>cached_collected_pledges_count</th>\n",
       "      <th>igg_image_url</th>\n",
       "      <th>compressed_image_url</th>\n",
       "      <th>balance</th>\n",
       "      <th>currency_code</th>\n",
       "      <th>amt_time_left</th>\n",
       "      <th>...</th>\n",
       "      <th>category_url</th>\n",
       "      <th>category_name</th>\n",
       "      <th>category_slug</th>\n",
       "      <th>card_type</th>\n",
       "      <th>collected_percentage</th>\n",
       "      <th>partner_name</th>\n",
       "      <th>in_forever_funding</th>\n",
       "      <th>friend_contributors</th>\n",
       "      <th>friend_team_members</th>\n",
       "      <th>source_url</th>\n",
       "    </tr>\n",
       "  </thead>\n",
       "  <tbody>\n",
       "    <tr>\n",
       "      <th>0</th>\n",
       "      <td>773971</td>\n",
       "      <td>Lasers, Lasers everywhere! Then I can make som...</td>\n",
       "      <td>100</td>\n",
       "      <td>Down The Rabbit Hole is wanting to expand into...</td>\n",
       "      <td>43</td>\n",
       "      <td>https://c1.iggcdn.com/indiegogo-media-prod-cld...</td>\n",
       "      <td>https://c1.iggcdn.com/indiegogo-media-prod-cld...</td>\n",
       "      <td>?520</td>\n",
       "      <td>GBP</td>\n",
       "      <td>No time left</td>\n",
       "      <td>...</td>\n",
       "      <td>/explore/small_business</td>\n",
       "      <td>Small Business</td>\n",
       "      <td>small_business</td>\n",
       "      <td>project</td>\n",
       "      <td>104%</td>\n",
       "      <td>null</td>\n",
       "      <td>False</td>\n",
       "      <td>[]</td>\n",
       "      <td>[]</td>\n",
       "      <td>https://www.indiegogo.com/explore#/browse/landing</td>\n",
       "    </tr>\n",
       "    <tr>\n",
       "      <th>1</th>\n",
       "      <td>1820996</td>\n",
       "      <td>Support Kanekta!</td>\n",
       "      <td>100</td>\n",
       "      <td>Support the creation of Kanekta, every $1 you ...</td>\n",
       "      <td>11</td>\n",
       "      <td>https://c1.iggcdn.com/indiegogo-media-prod-cld...</td>\n",
       "      <td>https://c1.iggcdn.com/indiegogo-media-prod-cld...</td>\n",
       "      <td>$511</td>\n",
       "      <td>CAD</td>\n",
       "      <td>No time left</td>\n",
       "      <td>...</td>\n",
       "      <td>/explore/small_business</td>\n",
       "      <td>Small Business</td>\n",
       "      <td>small_business</td>\n",
       "      <td>project</td>\n",
       "      <td>102%</td>\n",
       "      <td>null</td>\n",
       "      <td>False</td>\n",
       "      <td>[]</td>\n",
       "      <td>[]</td>\n",
       "      <td>https://www.indiegogo.com/explore#/browse/landing</td>\n",
       "    </tr>\n",
       "    <tr>\n",
       "      <th>2</th>\n",
       "      <td>335364</td>\n",
       "      <td>Maise Designs at PCC!</td>\n",
       "      <td>100</td>\n",
       "      <td>I've found myself, due to family sicknesses, n...</td>\n",
       "      <td>6</td>\n",
       "      <td>https://c1.iggcdn.com/indiegogo-media-prod-cld...</td>\n",
       "      <td>https://c1.iggcdn.com/indiegogo-media-prod-cld...</td>\n",
       "      <td>$510</td>\n",
       "      <td>USD</td>\n",
       "      <td>No time left</td>\n",
       "      <td>...</td>\n",
       "      <td>/explore/small_business</td>\n",
       "      <td>Small Business</td>\n",
       "      <td>small_business</td>\n",
       "      <td>project</td>\n",
       "      <td>102%</td>\n",
       "      <td>null</td>\n",
       "      <td>False</td>\n",
       "      <td>[]</td>\n",
       "      <td>[]</td>\n",
       "      <td>https://www.indiegogo.com/explore#/browse/landing</td>\n",
       "    </tr>\n",
       "    <tr>\n",
       "      <th>3</th>\n",
       "      <td>84385</td>\n",
       "      <td>Moved by Design</td>\n",
       "      <td>100</td>\n",
       "      <td>Moved by Design offers a holistic service that...</td>\n",
       "      <td>100</td>\n",
       "      <td>https://c1.iggcdn.com/indiegogo-media-prod-cld...</td>\n",
       "      <td>https://c1.iggcdn.com/indiegogo-media-prod-cld...</td>\n",
       "      <td>$507</td>\n",
       "      <td>USD</td>\n",
       "      <td>No time left</td>\n",
       "      <td>...</td>\n",
       "      <td>/explore/small_business</td>\n",
       "      <td>Small Business</td>\n",
       "      <td>small_business</td>\n",
       "      <td>project</td>\n",
       "      <td>101%</td>\n",
       "      <td>null</td>\n",
       "      <td>False</td>\n",
       "      <td>[]</td>\n",
       "      <td>[]</td>\n",
       "      <td>https://www.indiegogo.com/explore#/browse/landing</td>\n",
       "    </tr>\n",
       "    <tr>\n",
       "      <th>4</th>\n",
       "      <td>613091</td>\n",
       "      <td>Help Local Artisans Become Official Non-Profit...</td>\n",
       "      <td>100</td>\n",
       "      <td>Help our group of artisans obtain legal status...</td>\n",
       "      <td>15</td>\n",
       "      <td>https://c1.iggcdn.com/indiegogo-media-prod-cld...</td>\n",
       "      <td>https://c1.iggcdn.com/indiegogo-media-prod-cld...</td>\n",
       "      <td>$505</td>\n",
       "      <td>USD</td>\n",
       "      <td>No time left</td>\n",
       "      <td>...</td>\n",
       "      <td>/explore/small_business</td>\n",
       "      <td>Small Business</td>\n",
       "      <td>small_business</td>\n",
       "      <td>project</td>\n",
       "      <td>101%</td>\n",
       "      <td>null</td>\n",
       "      <td>False</td>\n",
       "      <td>[]</td>\n",
       "      <td>[]</td>\n",
       "      <td>https://www.indiegogo.com/explore#/browse/landing</td>\n",
       "    </tr>\n",
       "  </tbody>\n",
       "</table>\n",
       "<p>5 rows × 21 columns</p>\n",
       "</div>"
      ],
      "text/plain": [
       "        id                                              title  \\\n",
       "0   773971  Lasers, Lasers everywhere! Then I can make som...   \n",
       "1  1820996                                  Support Kanekta!    \n",
       "2   335364                              Maise Designs at PCC!   \n",
       "3    84385                                    Moved by Design   \n",
       "4   613091  Help Local Artisans Become Official Non-Profit...   \n",
       "\n",
       "   nearest_five_percent                                            tagline  \\\n",
       "0                   100  Down The Rabbit Hole is wanting to expand into...   \n",
       "1                   100  Support the creation of Kanekta, every $1 you ...   \n",
       "2                   100  I've found myself, due to family sicknesses, n...   \n",
       "3                   100  Moved by Design offers a holistic service that...   \n",
       "4                   100  Help our group of artisans obtain legal status...   \n",
       "\n",
       "   cached_collected_pledges_count  \\\n",
       "0                              43   \n",
       "1                              11   \n",
       "2                               6   \n",
       "3                             100   \n",
       "4                              15   \n",
       "\n",
       "                                       igg_image_url  \\\n",
       "0  https://c1.iggcdn.com/indiegogo-media-prod-cld...   \n",
       "1  https://c1.iggcdn.com/indiegogo-media-prod-cld...   \n",
       "2  https://c1.iggcdn.com/indiegogo-media-prod-cld...   \n",
       "3  https://c1.iggcdn.com/indiegogo-media-prod-cld...   \n",
       "4  https://c1.iggcdn.com/indiegogo-media-prod-cld...   \n",
       "\n",
       "                                compressed_image_url balance currency_code  \\\n",
       "0  https://c1.iggcdn.com/indiegogo-media-prod-cld...    ?520           GBP   \n",
       "1  https://c1.iggcdn.com/indiegogo-media-prod-cld...    $511           CAD   \n",
       "2  https://c1.iggcdn.com/indiegogo-media-prod-cld...    $510           USD   \n",
       "3  https://c1.iggcdn.com/indiegogo-media-prod-cld...    $507           USD   \n",
       "4  https://c1.iggcdn.com/indiegogo-media-prod-cld...    $505           USD   \n",
       "\n",
       "  amt_time_left                        ...                          \\\n",
       "0  No time left                        ...                           \n",
       "1  No time left                        ...                           \n",
       "2  No time left                        ...                           \n",
       "3  No time left                        ...                           \n",
       "4  No time left                        ...                           \n",
       "\n",
       "              category_url   category_name   category_slug card_type  \\\n",
       "0  /explore/small_business  Small Business  small_business   project   \n",
       "1  /explore/small_business  Small Business  small_business   project   \n",
       "2  /explore/small_business  Small Business  small_business   project   \n",
       "3  /explore/small_business  Small Business  small_business   project   \n",
       "4  /explore/small_business  Small Business  small_business   project   \n",
       "\n",
       "  collected_percentage partner_name in_forever_funding  friend_contributors  \\\n",
       "0                 104%         null              False                   []   \n",
       "1                 102%         null              False                   []   \n",
       "2                 102%         null              False                   []   \n",
       "3                 101%         null              False                   []   \n",
       "4                 101%         null              False                   []   \n",
       "\n",
       "  friend_team_members                                         source_url  \n",
       "0                  []  https://www.indiegogo.com/explore#/browse/landing  \n",
       "1                  []  https://www.indiegogo.com/explore#/browse/landing  \n",
       "2                  []  https://www.indiegogo.com/explore#/browse/landing  \n",
       "3                  []  https://www.indiegogo.com/explore#/browse/landing  \n",
       "4                  []  https://www.indiegogo.com/explore#/browse/landing  \n",
       "\n",
       "[5 rows x 21 columns]"
      ]
     },
     "execution_count": 3,
     "metadata": {},
     "output_type": "execute_result"
    }
   ],
   "source": [
    "dataset[:5]"
   ]
  },
  {
   "cell_type": "markdown",
   "metadata": {},
   "source": [
    "<h2>Removing uneeded projects</h2>\n",
    "<p>\n",
    "As we want to know if a project will be funded or not, some projects contained in this dataset are not relevant for us. We will remove all projects which are:\n",
    "    <ul>\n",
    "        <li>Funded for ever</li>\n",
    "        <li>Still running</li>\n",
    "        <li>Duplicated</li>\n",
    "    </ul>\n",
    "</p>\n",
    "<p>We first remove <b>forever funding projects</b> which are not relevant for our needs</p>"
   ]
  },
  {
   "cell_type": "code",
   "execution_count": 4,
   "metadata": {},
   "outputs": [
    {
     "data": {
      "text/plain": [
       "(1553639, 21)"
      ]
     },
     "execution_count": 4,
     "metadata": {},
     "output_type": "execute_result"
    }
   ],
   "source": [
    "dataset = dataset[dataset.in_forever_funding != True]\n",
    "dataset.shape"
   ]
  },
  {
   "cell_type": "markdown",
   "metadata": {},
   "source": [
    "<p>We're not interested by funding percentage of projects which are <b>still running</b></p>"
   ]
  },
  {
   "cell_type": "code",
   "execution_count": 5,
   "metadata": {},
   "outputs": [
    {
     "data": {
      "text/plain": [
       "(1407807, 21)"
      ]
     },
     "execution_count": 5,
     "metadata": {},
     "output_type": "execute_result"
    }
   ],
   "source": [
    "dataset = dataset[dataset.amt_time_left == 'No time left']\n",
    "dataset.shape"
   ]
  },
  {
   "cell_type": "markdown",
   "metadata": {},
   "source": [
    "<p>Now that we have removed irrelevant projects, let's check if this dataset contains <b>duplicated projects</b></p>"
   ]
  },
  {
   "cell_type": "code",
   "execution_count": 6,
   "metadata": {},
   "outputs": [
    {
     "data": {
      "text/plain": [
       "1261489"
      ]
     },
     "execution_count": 6,
     "metadata": {},
     "output_type": "execute_result"
    }
   ],
   "source": [
    "dataset.shape[0] - len(set(dataset['id']))"
   ]
  },
  {
   "cell_type": "markdown",
   "metadata": {},
   "source": [
    "<p>\n",
    "    This dataset contains more than <b>1 million of duplicated projects</b>,\n",
    "    that is to say the <b>majority of this dataset</b> is project duplication !<br/>\n",
    "    Let's remove duplicated projects.\n",
    "</p>"
   ]
  },
  {
   "cell_type": "code",
   "execution_count": 7,
   "metadata": {},
   "outputs": [
    {
     "data": {
      "text/plain": [
       "(146318, 21)"
      ]
     },
     "execution_count": 7,
     "metadata": {},
     "output_type": "execute_result"
    }
   ],
   "source": [
    "dataset = dataset.drop_duplicates(subset=['id'], keep='last')\n",
    "dataset.shape"
   ]
  },
  {
   "cell_type": "markdown",
   "metadata": {},
   "source": [
    "<h2>Cleaning data</h2>\n",
    "<p>\n",
    "    Some values have a numerical and a string part.\n",
    "    As they are not usable as it is, we want transform them into <b>numerical values</b> and get rid of the string part.\n",
    "    This transformation concern:\n",
    "    <ul>\n",
    "        <li>balance</li>\n",
    "        <li>collected percentage</li>\n",
    "    </ul>\n",
    "</p>"
   ]
  },
  {
   "cell_type": "code",
   "execution_count": 8,
   "metadata": {},
   "outputs": [],
   "source": [
    "dataset.balance = dataset.balance.apply(lambda x: ''.join(c for c in x if c.isdigit()))\n",
    "dataset.balance = dataset.balance.apply(pd.to_numeric)"
   ]
  },
  {
   "cell_type": "markdown",
   "metadata": {},
   "source": [
    "<p>\n",
    "    We can see that the currency of balance can vary.\n",
    "    For consistency, we will convert all currencies to <b>USD</b>.\n",
    "</p>"
   ]
  },
  {
   "cell_type": "code",
   "execution_count": 9,
   "metadata": {},
   "outputs": [
    {
     "data": {
      "text/plain": [
       "{'AUD', 'CAD', 'EUR', 'GBP', 'USD'}"
      ]
     },
     "execution_count": 9,
     "metadata": {},
     "output_type": "execute_result"
    }
   ],
   "source": [
    "set(dataset.currency_code)"
   ]
  },
  {
   "cell_type": "code",
   "execution_count": 10,
   "metadata": {},
   "outputs": [],
   "source": [
    "change_currencies = {'AUD': 0.78, 'CAD': 0.80, 'EUR': 1.18, 'GBP': 1.33, 'USD': 1}\n",
    "dataset.balance = dataset.apply(lambda row: change_currencies[row['currency_code']] * row['balance'], axis=1)"
   ]
  },
  {
   "cell_type": "markdown",
   "metadata": {},
   "source": [
    "<p>Then we convert percentage values removing the '%' sign.</p>"
   ]
  },
  {
   "cell_type": "code",
   "execution_count": 11,
   "metadata": {},
   "outputs": [],
   "source": [
    "dataset.collected_percentage = dataset.collected_percentage.apply(lambda x: ''.join(c for c in x if c.isdigit()))\n",
    "dataset.collected_percentage = dataset.collected_percentage.apply(lambda x: pd.to_numeric(x, downcast='float'))"
   ]
  },
  {
   "cell_type": "markdown",
   "metadata": {},
   "source": [
    "<p>\n",
    "    Some other values are not usable as they are because they are to complex, such as:\n",
    "    <ul>\n",
    "        <li>title</li>\n",
    "        <li>tagline</li>\n",
    "        <li>partner_name</li>\n",
    "    </ul>\n",
    "</p>\n",
    "<p>\n",
    "    <b>Title</b> and <b>tagline</b> are still very interesting values which may \n",
    "    influence the success of a campaign.\n",
    "    We can use the <b>number of character</b> of each one to see if a short or long title (or tagline)\n",
    "    has an impact on the success of a campaign.\n",
    "</p>"
   ]
  },
  {
   "cell_type": "code",
   "execution_count": 12,
   "metadata": {},
   "outputs": [],
   "source": [
    "dataset.title = dataset.title.apply(lambda x: len(str(x)))"
   ]
  },
  {
   "cell_type": "code",
   "execution_count": 13,
   "metadata": {},
   "outputs": [],
   "source": [
    "dataset.tagline = dataset.tagline.apply(lambda x: len(str(x)))"
   ]
  },
  {
   "cell_type": "markdown",
   "metadata": {},
   "source": [
    "<p>\n",
    "    <b>Partner name</b> is not usable as it is because searching for similar partner_name won't\n",
    "    be of a great help for our analysis. However knowing if having a partner help a campaign to succeed is\n",
    "    much more usable. Let's convert the partner_name values to <b>boolean values</b>:\n",
    "    <ul>\n",
    "        <li><b>True</b> if the campaign owner has one or more partners</li>\n",
    "        <li><b>False</b> otherwise</li>\n",
    "    </ul>\n",
    "</p>"
   ]
  },
  {
   "cell_type": "code",
   "execution_count": 14,
   "metadata": {},
   "outputs": [],
   "source": [
    "dataset.partner_name = dataset.partner_name.apply(lambda x: False if x == 'null' else True)"
   ]
  },
  {
   "cell_type": "markdown",
   "metadata": {},
   "source": [
    "<h2>Cleaning attributes</h2>\n",
    "<p>\n",
    "    After the changes we've made, we'll change the name of some attributes for consistency:\n",
    "    <li>\n",
    "        Because it now holds boolean values, <b>partner_name</b> will become <b>has_partner</b>\n",
    "    </li>\n",
    "    <li>\n",
    "        <b>Title</b> and <b>tagline</b> now holds their length instead of a text, \n",
    "        and will be renames into <b>title_len</b> and <b>tagline_len</b>\n",
    "    </li>\n",
    "    <li>\n",
    "        <b>cached_collected_pledges_count</b> name is just way too long and will be \n",
    "        simplified to <b>pledges_count</b>\n",
    "    </li>\n",
    "</p>"
   ]
  },
  {
   "cell_type": "code",
   "execution_count": 15,
   "metadata": {},
   "outputs": [],
   "source": [
    "dataset = dataset.rename(columns={'cached_collected_pledges_count': 'pledges_count',\n",
    "                        'partner_name': 'has_partner', 'title': 'title_len',\n",
    "                        'tagline': 'tagline_len'})"
   ]
  },
  {
   "cell_type": "markdown",
   "metadata": {},
   "source": [
    "<p>\n",
    "    We also have many useless attributes which we'll drop.\n",
    "    We want to keep the <b>7 following attributes</b>:\n",
    "    <li><i>title_len:</i> the number of character contained in the title</li>\n",
    "    <li><i>tagline_len:</i> the number of character contained in the tagline</li>\n",
    "    <li><i>pledges_count:</i> the number of payment promesses for the campaign</li>\n",
    "    <li><i>balance:</i> the amount required</li>\n",
    "    <li><i>collected percentage:</i> the percentage of raised funds</li>\n",
    "    <li><i>has partner:</i> check if a campaign has a partnership</li>\n",
    "</p>"
   ]
  },
  {
   "cell_type": "code",
   "execution_count": 16,
   "metadata": {},
   "outputs": [],
   "source": [
    "cols_to_drop = ['nearest_five_percent', 'igg_image_url', 'compressed_image_url', 'url', \n",
    "                'category_url', 'category_name', 'card_type', 'amt_time_left', 'card_type', \n",
    "                'in_forever_funding', 'friend_contributors', 'friend_team_members', 'source_url', 'id',\n",
    "                'currency_code']\n",
    "dataset.drop(cols_to_drop, inplace=True, axis=1)"
   ]
  },
  {
   "cell_type": "markdown",
   "metadata": {},
   "source": [
    "<p>Now our dataset look like this:</p>"
   ]
  },
  {
   "cell_type": "code",
   "execution_count": 17,
   "metadata": {},
   "outputs": [
    {
     "data": {
      "text/html": [
       "<div>\n",
       "<style>\n",
       "    .dataframe thead tr:only-child th {\n",
       "        text-align: right;\n",
       "    }\n",
       "\n",
       "    .dataframe thead th {\n",
       "        text-align: left;\n",
       "    }\n",
       "\n",
       "    .dataframe tbody tr th {\n",
       "        vertical-align: top;\n",
       "    }\n",
       "</style>\n",
       "<table border=\"1\" class=\"dataframe\">\n",
       "  <thead>\n",
       "    <tr style=\"text-align: right;\">\n",
       "      <th></th>\n",
       "      <th>title_len</th>\n",
       "      <th>tagline_len</th>\n",
       "      <th>pledges_count</th>\n",
       "      <th>balance</th>\n",
       "      <th>category_slug</th>\n",
       "      <th>collected_percentage</th>\n",
       "      <th>has_partner</th>\n",
       "    </tr>\n",
       "  </thead>\n",
       "  <tbody>\n",
       "    <tr>\n",
       "      <th>2505</th>\n",
       "      <td>20</td>\n",
       "      <td>65</td>\n",
       "      <td>311</td>\n",
       "      <td>9045.0</td>\n",
       "      <td>video_web</td>\n",
       "      <td>181.0</td>\n",
       "      <td>False</td>\n",
       "    </tr>\n",
       "    <tr>\n",
       "      <th>3945</th>\n",
       "      <td>47</td>\n",
       "      <td>99</td>\n",
       "      <td>62</td>\n",
       "      <td>30214.0</td>\n",
       "      <td>technology</td>\n",
       "      <td>1178.0</td>\n",
       "      <td>False</td>\n",
       "    </tr>\n",
       "    <tr>\n",
       "      <th>46157</th>\n",
       "      <td>43</td>\n",
       "      <td>93</td>\n",
       "      <td>6704</td>\n",
       "      <td>571527.0</td>\n",
       "      <td>technology</td>\n",
       "      <td>2858.0</td>\n",
       "      <td>True</td>\n",
       "    </tr>\n",
       "    <tr>\n",
       "      <th>52031</th>\n",
       "      <td>15</td>\n",
       "      <td>19</td>\n",
       "      <td>1</td>\n",
       "      <td>1000.0</td>\n",
       "      <td>video_web</td>\n",
       "      <td>40.0</td>\n",
       "      <td>False</td>\n",
       "    </tr>\n",
       "    <tr>\n",
       "      <th>52599</th>\n",
       "      <td>6</td>\n",
       "      <td>97</td>\n",
       "      <td>29</td>\n",
       "      <td>11779.0</td>\n",
       "      <td>technology</td>\n",
       "      <td>39.0</td>\n",
       "      <td>False</td>\n",
       "    </tr>\n",
       "  </tbody>\n",
       "</table>\n",
       "</div>"
      ],
      "text/plain": [
       "       title_len  tagline_len  pledges_count   balance category_slug  \\\n",
       "2505          20           65            311    9045.0     video_web   \n",
       "3945          47           99             62   30214.0    technology   \n",
       "46157         43           93           6704  571527.0    technology   \n",
       "52031         15           19              1    1000.0     video_web   \n",
       "52599          6           97             29   11779.0    technology   \n",
       "\n",
       "       collected_percentage  has_partner  \n",
       "2505                  181.0        False  \n",
       "3945                 1178.0        False  \n",
       "46157                2858.0         True  \n",
       "52031                  40.0        False  \n",
       "52599                  39.0        False  "
      ]
     },
     "execution_count": 17,
     "metadata": {},
     "output_type": "execute_result"
    }
   ],
   "source": [
    "dataset[:5]"
   ]
  },
  {
   "cell_type": "markdown",
   "metadata": {},
   "source": [
    "<h2>Make category consistent</h2>\n",
    "<p>We can check category_slug consistency</p>"
   ]
  },
  {
   "cell_type": "code",
   "execution_count": 18,
   "metadata": {},
   "outputs": [
    {
     "name": "stdout",
     "output_type": "stream",
     "text": [
      "{'theatre', 'photography', 'tabletop_games', 'energy_green_tech', 'dance-theater', 'phones-accessories', 'health-fitness', 'community_projects', 'religion', 'animal_rights', 'health_fitness', 'video-games', 'web_series_tv_shows', 'creative_works', 'tech_innovation', 'audio', 'animal-rights', 'human-rights', 'video_web', 'tabletop-games', 'health', 'camera-gear', 'video_games', 'travel_outdoors', 'home', 'human_rights', 'food_beverages', 'food', 'culture', 'politics', 'transportation', 'travel-outdoors', 'writing', 'podcasts-blogs-vlogs', 'community', 'music', 'sports', 'dance_theater', 'productivity', 'environment', 'phones_accessories', 'wellness', 'tech-innovation', 'fashion', 'food-beverages', 'local_businesses', 'fashion_wearables', 'animals', 'energy-green-tech', 'dance', 'gaming', 'writing-publishing', 'fashion-wearables', 'art', 'web-series-tv-shows', 'technology', 'film', 'education', 'local-businesses', 'comic', 'creative-works', 'transmedia', 'podcasts_blogs_vlogs', 'spirituality', 'camera_gear', 'writing_publishing', 'comics', 'small_business', 'design', 'community-projects'}, 70\n"
     ]
    }
   ],
   "source": [
    "print(\"{}, {}\".format(set(dataset.category_slug), len(set(dataset.category_slug))))"
   ]
  },
  {
   "cell_type": "markdown",
   "metadata": {},
   "source": [
    "<p>\n",
    "    There is way too much categories.Moreover we can see that many <b>category are duplicated</b> using '-' instead of '_' and some categories <b>can be aggregated</b>:\n",
    "    <ul>\n",
    "        <li>animals and animals right</li>\n",
    "        <li>comic and comics</li>\n",
    "        <li>community and community_projects</li>\n",
    "        <li>dance and dance_theater</li>\n",
    "        <li>fashion and fashion_wearable</li>\n",
    "        <li>food and food_beverage</li>\n",
    "        <li>tabletop_games, video_games and gaming with games</li>\n",
    "        <li>health and health_fitness</li>\n",
    "        <li>writing and writing_publishing</li>\n",
    "        <li>tech_innovation and energy_green_tech with technology</li>\n",
    "    </ul>\n",
    "</p>\n",
    "<p>Let's start by replacing all '-' by '_' to make our categories more consistent</p>"
   ]
  },
  {
   "cell_type": "code",
   "execution_count": 19,
   "metadata": {},
   "outputs": [],
   "source": [
    "dataset.category_slug = dataset.category_slug.apply(lambda x: x.replace('-', '_'))"
   ]
  },
  {
   "cell_type": "code",
   "execution_count": 20,
   "metadata": {},
   "outputs": [
    {
     "name": "stdout",
     "output_type": "stream",
     "text": [
      "{'theatre', 'photography', 'tabletop_games', 'energy_green_tech', 'community_projects', 'religion', 'animal_rights', 'web_series_tv_shows', 'health_fitness', 'creative_works', 'tech_innovation', 'audio', 'video_web', 'health', 'video_games', 'travel_outdoors', 'home', 'human_rights', 'food_beverages', 'food', 'culture', 'politics', 'dance_theater', 'transportation', 'writing', 'community', 'music', 'sports', 'productivity', 'environment', 'phones_accessories', 'wellness', 'fashion', 'local_businesses', 'fashion_wearables', 'animals', 'dance', 'gaming', 'art', 'technology', 'film', 'education', 'podcasts_blogs_vlogs', 'comic', 'transmedia', 'spirituality', 'camera_gear', 'writing_publishing', 'comics', 'small_business', 'design'}, 51\n"
     ]
    }
   ],
   "source": [
    "print(\"{}, {}\".format(set(dataset.category_slug), len(set(dataset.category_slug))))"
   ]
  },
  {
   "cell_type": "markdown",
   "metadata": {},
   "source": [
    "<p>Let's aggregate the related categories</p>"
   ]
  },
  {
   "cell_type": "code",
   "execution_count": 26,
   "metadata": {},
   "outputs": [],
   "source": [
    "def aggregate_categories(category):\n",
    "    to_aggregate = {\n",
    "        \"animal_\": \"animals\",\n",
    "        \"community_\": \"community\",\n",
    "        \"dance_\": \"dance\",\n",
    "        \"fashion_\": \"fashion\",\n",
    "        \"food_\": \"food\",\n",
    "        \"comic\": \"comics\",\n",
    "        \"video_games\": \"games\",\n",
    "        \"gaming\": \"games\",\n",
    "        \"tabletop_games\": \"games\",\n",
    "        \"health_\": \"health\",\n",
    "        \"writing_\": \"writing\",\n",
    "        \"tech_\": \"technology\",\n",
    "        \"energy_green_tech\": \"technology\",\n",
    "        \"web_series_\": \"series\",\n",
    "        \"podcasts_\": \"podcast\"\n",
    "        \n",
    "    }\n",
    "    for key in to_aggregate.keys():\n",
    "        if category.startswith(key):\n",
    "            return to_aggregate[key]\n",
    "    return category"
   ]
  },
  {
   "cell_type": "code",
   "execution_count": 27,
   "metadata": {},
   "outputs": [],
   "source": [
    "dataset.category_slug = dataset.category_slug.apply(aggregate_categories)"
   ]
  },
  {
   "cell_type": "code",
   "execution_count": 28,
   "metadata": {},
   "outputs": [
    {
     "name": "stdout",
     "output_type": "stream",
     "text": [
      "{'theatre', 'photography', 'series', 'religion', 'creative_works', 'games', 'audio', 'video_web', 'health', 'travel_outdoors', 'home', 'human_rights', 'food', 'culture', 'politics', 'podcast', 'transportation', 'writing', 'community', 'music', 'sports', 'productivity', 'environment', 'phones_accessories', 'wellness', 'fashion', 'local_businesses', 'animals', 'dance', 'art', 'technology', 'film', 'education', 'transmedia', 'spirituality', 'camera_gear', 'comics', 'small_business', 'design'}, 39\n"
     ]
    }
   ],
   "source": [
    "print(\"{}, {}\".format(set(dataset.category_slug), len(set(dataset.category_slug))))"
   ]
  },
  {
   "cell_type": "markdown",
   "metadata": {},
   "source": [
    "<p>Now our dataset look like this:</p>"
   ]
  },
  {
   "cell_type": "code",
   "execution_count": 29,
   "metadata": {},
   "outputs": [
    {
     "data": {
      "text/html": [
       "<div>\n",
       "<style>\n",
       "    .dataframe thead tr:only-child th {\n",
       "        text-align: right;\n",
       "    }\n",
       "\n",
       "    .dataframe thead th {\n",
       "        text-align: left;\n",
       "    }\n",
       "\n",
       "    .dataframe tbody tr th {\n",
       "        vertical-align: top;\n",
       "    }\n",
       "</style>\n",
       "<table border=\"1\" class=\"dataframe\">\n",
       "  <thead>\n",
       "    <tr style=\"text-align: right;\">\n",
       "      <th></th>\n",
       "      <th>title_len</th>\n",
       "      <th>tagline_len</th>\n",
       "      <th>pledges_count</th>\n",
       "      <th>balance</th>\n",
       "      <th>category_slug</th>\n",
       "      <th>collected_percentage</th>\n",
       "      <th>has_partner</th>\n",
       "    </tr>\n",
       "  </thead>\n",
       "  <tbody>\n",
       "    <tr>\n",
       "      <th>2505</th>\n",
       "      <td>20</td>\n",
       "      <td>65</td>\n",
       "      <td>311</td>\n",
       "      <td>9045.0</td>\n",
       "      <td>video_web</td>\n",
       "      <td>181.0</td>\n",
       "      <td>False</td>\n",
       "    </tr>\n",
       "    <tr>\n",
       "      <th>3945</th>\n",
       "      <td>47</td>\n",
       "      <td>99</td>\n",
       "      <td>62</td>\n",
       "      <td>30214.0</td>\n",
       "      <td>technology</td>\n",
       "      <td>1178.0</td>\n",
       "      <td>False</td>\n",
       "    </tr>\n",
       "    <tr>\n",
       "      <th>46157</th>\n",
       "      <td>43</td>\n",
       "      <td>93</td>\n",
       "      <td>6704</td>\n",
       "      <td>571527.0</td>\n",
       "      <td>technology</td>\n",
       "      <td>2858.0</td>\n",
       "      <td>True</td>\n",
       "    </tr>\n",
       "    <tr>\n",
       "      <th>52031</th>\n",
       "      <td>15</td>\n",
       "      <td>19</td>\n",
       "      <td>1</td>\n",
       "      <td>1000.0</td>\n",
       "      <td>video_web</td>\n",
       "      <td>40.0</td>\n",
       "      <td>False</td>\n",
       "    </tr>\n",
       "    <tr>\n",
       "      <th>52599</th>\n",
       "      <td>6</td>\n",
       "      <td>97</td>\n",
       "      <td>29</td>\n",
       "      <td>11779.0</td>\n",
       "      <td>technology</td>\n",
       "      <td>39.0</td>\n",
       "      <td>False</td>\n",
       "    </tr>\n",
       "  </tbody>\n",
       "</table>\n",
       "</div>"
      ],
      "text/plain": [
       "       title_len  tagline_len  pledges_count   balance category_slug  \\\n",
       "2505          20           65            311    9045.0     video_web   \n",
       "3945          47           99             62   30214.0    technology   \n",
       "46157         43           93           6704  571527.0    technology   \n",
       "52031         15           19              1    1000.0     video_web   \n",
       "52599          6           97             29   11779.0    technology   \n",
       "\n",
       "       collected_percentage  has_partner  \n",
       "2505                  181.0        False  \n",
       "3945                 1178.0        False  \n",
       "46157                2858.0         True  \n",
       "52031                  40.0        False  \n",
       "52599                  39.0        False  "
      ]
     },
     "execution_count": 29,
     "metadata": {},
     "output_type": "execute_result"
    }
   ],
   "source": [
    "dataset[:5]"
   ]
  },
  {
   "cell_type": "markdown",
   "metadata": {},
   "source": [
    "<p>We save it as a tsv file which we will use for all our analysis</p>"
   ]
  },
  {
   "cell_type": "code",
   "execution_count": 30,
   "metadata": {},
   "outputs": [],
   "source": [
    "dataset.to_csv('indiegogo_cleaned_dataset.tsv', index=False, sep='\\t')"
   ]
  }
 ],
 "metadata": {
  "kernelspec": {
   "display_name": "Python 3",
   "language": "python",
   "name": "python3"
  },
  "language_info": {
   "codemirror_mode": {
    "name": "ipython",
    "version": 3
   },
   "file_extension": ".py",
   "mimetype": "text/x-python",
   "name": "python",
   "nbconvert_exporter": "python",
   "pygments_lexer": "ipython3",
   "version": "3.6.2"
  }
 },
 "nbformat": 4,
 "nbformat_minor": 1
}
