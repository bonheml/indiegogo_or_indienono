{
 "cells": [
  {
   "cell_type": "markdown",
   "metadata": {},
   "source": [
    "<header>\n",
    "    <h1>CA4010 - Data warehousing and Data mining</h1>\n",
    "    <h2>Continuous assessment project</h2>\n",
    "</header>\n",
    "<p>\n",
    "    For this project, we want to predict if a project submitted to \n",
    "    <a href=\"https://www.indiegogo.com\">indiegogo.com</a> will or will not be funded.\n",
    "    For this purpose, we'll use a\n",
    "    <a href=\"https://www.kaggle.com/kingburrito666/indiegogo-project-statistics/data\">\n",
    "    dataset from kaggle containing one year of indiegogo projects.</a>\n",
    "    The version used here is the concatenation of all csv files using the given 'combiner.py'.<br/>\n",
    "    However, some modifications has been made from combiner.py:\n",
    "    <ul>\n",
    "        <li>\n",
    "            One row was normalized : <i>in_forever_funding</i> was passed to 'True' instead of 'null' to avoid\n",
    "            type warning at loading time and use boolean type for this attribute.\n",
    "        </li>\n",
    "        <li>\n",
    "            The file was saved as tsv (tab separated values) instead of csv for a better readability.\n",
    "        </li>\n",
    "    </ul>\n",
    "</p>\n",
    "<p>\n",
    "    This notebook will decribe and show how we'll reduce the categories we have to a usable number\n",
    "</p>"
   ]
  },
  {
   "cell_type": "markdown",
   "metadata": {},
   "source": [
    "<h2>Make category consistent</h2>\n",
    "<p>We can check category_slug consistency</p>"
   ]
  },
  {
   "cell_type": "code",
   "execution_count": 50,
   "metadata": {},
   "outputs": [],
   "source": [
    "import pandas as pd"
   ]
  },
  {
   "cell_type": "code",
   "execution_count": 51,
   "metadata": {},
   "outputs": [],
   "source": [
    "indiegogo = pd.read_csv('indiegogo_cleaned_dataset.tsv', sep='\\t')"
   ]
  },
  {
   "cell_type": "code",
   "execution_count": 52,
   "metadata": {},
   "outputs": [
    {
     "name": "stdout",
     "output_type": "stream",
     "text": [
      "{'animals', 'animal_rights', 'food_beverages', 'small_business', 'web-series-tv-shows', 'design', 'tabletop-games', 'phones_accessories', 'tech-innovation', 'audio', 'podcasts_blogs_vlogs', 'fashion', 'technology', 'travel-outdoors', 'fashion_wearables', 'comics', 'travel_outdoors', 'religion', 'human_rights', 'art', 'education', 'video-games', 'community-projects', 'productivity', 'theatre', 'video_games', 'community_projects', 'tech_innovation', 'camera-gear', 'transmedia', 'dance', 'local_businesses', 'writing_publishing', 'video_web', 'dance_theater', 'spirituality', 'web_series_tv_shows', 'health_fitness', 'energy-green-tech', 'gaming', 'local-businesses', 'environment', 'transportation', 'dance-theater', 'food-beverages', 'phones-accessories', 'animal-rights', 'human-rights', 'film', 'politics', 'tabletop_games', 'energy_green_tech', 'wellness', 'podcasts-blogs-vlogs', 'fashion-wearables', 'culture', 'camera_gear', 'creative_works', 'health', 'creative-works', 'home', 'sports', 'comic', 'food', 'writing-publishing', 'music', 'photography', 'community', 'writing', 'health-fitness'}, 70\n"
     ]
    }
   ],
   "source": [
    "print(\"{}, {}\".format(set(indiegogo.category_slug), len(set(indiegogo.category_slug))))"
   ]
  },
  {
   "cell_type": "markdown",
   "metadata": {},
   "source": [
    "<p>\n",
    "    <b>70</b> categories is too much, it'll be unefficient to have a so high number of class for one attribute during the classification process ! Moreover we can see that many <b>category are duplicated</b> using '-' instead of '_'.\n",
    "Some categories <b>can also be aggregated</b>:\n",
    "    <ul>\n",
    "        <li>animals and animals right</li>\n",
    "        <li>comic and comics</li>\n",
    "        <li>community and community_projects</li>\n",
    "        <li>dance and dance_theater</li>\n",
    "        <li>fashion and fashion_wearable</li>\n",
    "        <li>food and food_beverage</li>\n",
    "        <li>tabletop_games, video_games and gaming with games</li>\n",
    "        <li>health, wellness and health_fitness</li>\n",
    "        <li>writing and writing_publishing</li>\n",
    "        <li>tech_innovation and energy_green_tech with technology</li>\n",
    "    </ul>\n",
    "</p>\n",
    "<p>Let's start by replacing all '-' by '_' to make our categories more consistent</p>"
   ]
  },
  {
   "cell_type": "code",
   "execution_count": 53,
   "metadata": {},
   "outputs": [
    {
     "name": "stdout",
     "output_type": "stream",
     "text": [
      "{'animals', 'animal_rights', 'food_beverages', 'small_business', 'phones_accessories', 'design', 'audio', 'podcasts_blogs_vlogs', 'fashion', 'technology', 'fashion_wearables', 'travel_outdoors', 'comics', 'religion', 'human_rights', 'art', 'education', 'productivity', 'theatre', 'video_games', 'community_projects', 'tech_innovation', 'local_businesses', 'dance_theater', 'writing_publishing', 'transmedia', 'dance', 'video_web', 'spirituality', 'web_series_tv_shows', 'health_fitness', 'gaming', 'environment', 'transportation', 'politics', 'film', 'energy_green_tech', 'tabletop_games', 'wellness', 'culture', 'camera_gear', 'creative_works', 'health', 'home', 'sports', 'comic', 'food', 'music', 'photography', 'community', 'writing'}, 51\n"
     ]
    }
   ],
   "source": [
    "indiegogo.category_slug = indiegogo.category_slug.apply(lambda x: x.replace('-', '_'))\n",
    "print(\"{}, {}\".format(set(indiegogo.category_slug), len(set(indiegogo.category_slug))))"
   ]
  },
  {
   "cell_type": "markdown",
   "metadata": {},
   "source": [
    "<p> We had remove <b>19 categories</b> with normalization only. It's better but <b>51 categories</b> is still a high number. Let's aggregate the related categories.</p>"
   ]
  },
  {
   "cell_type": "code",
   "execution_count": 54,
   "metadata": {},
   "outputs": [],
   "source": [
    "to_aggregate = {\n",
    "        \"animal_\": \"animals\",\n",
    "        \"community_\": \"community\",\n",
    "        \"dance_\": \"dance\",\n",
    "        \"fashion_\": \"fashion\",\n",
    "        \"food_\": \"food\",\n",
    "        \"comic\": \"comics\",\n",
    "        \"video_games\": \"games\",\n",
    "        \"gaming\": \"games\",\n",
    "        \"tabletop_games\": \"games\",\n",
    "        \"health_\": \"health\",\n",
    "        \"writing_\": \"writing\",\n",
    "        \"tech_\": \"technology\",\n",
    "        \"energy_green_tech\": \"technology\",\n",
    "        \"web_series_\": \"series\",\n",
    "        \"podcasts_\": \"podcast\"\n",
    "    }"
   ]
  },
  {
   "cell_type": "code",
   "execution_count": 55,
   "metadata": {},
   "outputs": [],
   "source": [
    "def aggregate_categories(category):\n",
    "    for key in to_aggregate.keys():\n",
    "        if category.startswith(key):\n",
    "            return to_aggregate[key]\n",
    "    return category"
   ]
  },
  {
   "cell_type": "code",
   "execution_count": 56,
   "metadata": {},
   "outputs": [
    {
     "name": "stdout",
     "output_type": "stream",
     "text": [
      "{'animals', 'small_business', 'phones_accessories', 'design', 'audio', 'fashion', 'technology', 'travel_outdoors', 'comics', 'religion', 'human_rights', 'art', 'education', 'productivity', 'series', 'theatre', 'local_businesses', 'transmedia', 'dance', 'video_web', 'spirituality', 'podcast', 'environment', 'transportation', 'politics', 'film', 'wellness', 'culture', 'camera_gear', 'creative_works', 'health', 'home', 'sports', 'games', 'food', 'music', 'photography', 'community', 'writing'}, 39\n"
     ]
    }
   ],
   "source": [
    "indiegogo.category_slug = indiegogo.category_slug.apply(aggregate_categories)\n",
    "print(\"{}, {}\".format(set(indiegogo.category_slug), len(set(indiegogo.category_slug))))"
   ]
  },
  {
   "cell_type": "markdown",
   "metadata": {},
   "source": [
    "<p>It's better, we've decreased our categories number by <b>13</b> with aggregation. This we've still <b>38 categories left</b> which is still too high. Let's generalize the categories which are still in the list using the super-categories used by indiegogo:\n",
    "    <ul>\n",
    "        <li>community_projects</li>\n",
    "        <li>tech_innovations</li>\n",
    "        <li>creative_works</li>\n",
    "    </ul>\n",
    "</p>"
   ]
  },
  {
   "cell_type": "code",
   "execution_count": 57,
   "metadata": {},
   "outputs": [
    {
     "name": "stdout",
     "output_type": "stream",
     "text": [
      "{'creative_works', 'tech_innovation', 'community_projects'}, 3\n"
     ]
    }
   ],
   "source": [
    "to_aggregate = {\n",
    "        \"dance\": \"creative_works\",\n",
    "        \"writing\": \"creative_works\",\n",
    "        \"theatre\": \"creative_works\",\n",
    "        \"photography\": \"creative_works\",\n",
    "        \"transmedia\": \"creative_works\",\n",
    "        \"design\": \"creative_works\",\n",
    "        \"comics\": \"creative_works\",\n",
    "        \"film\": \"creative_works\",\n",
    "        \"art\": \"creative_works\",\n",
    "        \"podcast\": \"creative_works\",\n",
    "        \"film\": \"creative_works\",\n",
    "        \"series\": \"creative_works\",\n",
    "        \"games\": \"creative_works\",\n",
    "        \"music\": \"creative_works\",\n",
    "        \"video_web\": \"creative_works\",\n",
    "        \"camera_gear\": \"tech_innovation\",\n",
    "        \"phones_accessories\": \"tech_innovation\",\n",
    "        \"audio\": \"tech_innovation\",\n",
    "        \"technology\": \"tech_innovation\",\n",
    "        \"sports\": \"tech_innovation\",\n",
    "        \"fashion\": \"tech_innovation\",\n",
    "        \"food\": \"tech_innovation\",\n",
    "        \"health\": \"tech_innovation\",\n",
    "        \"home\": \"tech_innovation\",\n",
    "        \"productivity\": \"tech_innovation\",\n",
    "        \"transportation\": \"tech_innovation\",\n",
    "        \"travel_outdoors\": \"tech_innovation\",\n",
    "        \"small_business\": \"community_projects\",\n",
    "        \"culture\": \"community_projects\",\n",
    "        \"animals\": \"community_projects\",\n",
    "        \"education\": \"community_projects\",\n",
    "        \"environment\": \"community_projects\",\n",
    "        \"human_rights\": \"community_projects\",\n",
    "        \"local_businesses\": \"community_projects\",\n",
    "        \"spirituality\": \"community_projects\",\n",
    "        \"wellness\": \"community_projects\",\n",
    "        \"religion\": \"community_projects\",\n",
    "        \"community\": \"community_projects\",\n",
    "        \"politics\": \"community_projects\"\n",
    "    }\n",
    "indiegogo.category_slug = indiegogo.category_slug.apply(aggregate_categories)\n",
    "print(\"{}, {}\".format(set(indiegogo.category_slug), len(set(indiegogo.category_slug))))"
   ]
  },
  {
   "cell_type": "markdown",
   "metadata": {},
   "source": [
    "<p>Now we can save the dataset containing our cleaned categories.</p>"
   ]
  },
  {
   "cell_type": "code",
   "execution_count": 58,
   "metadata": {
    "scrolled": true
   },
   "outputs": [],
   "source": [
    "indiegogo.to_csv(\"indiegogo_cleaned_dataset.tsv\", index=False, sep='\\t')"
   ]
  },
  {
   "cell_type": "code",
   "execution_count": null,
   "metadata": {},
   "outputs": [],
   "source": []
  }
 ],
 "metadata": {
  "kernelspec": {
   "display_name": "Python 3",
   "language": "python",
   "name": "python3"
  },
  "language_info": {
   "codemirror_mode": {
    "name": "ipython",
    "version": 3
   },
   "file_extension": ".py",
   "mimetype": "text/x-python",
   "name": "python",
   "nbconvert_exporter": "python",
   "pygments_lexer": "ipython3",
   "version": "3.6.2"
  }
 },
 "nbformat": 4,
 "nbformat_minor": 2
}
