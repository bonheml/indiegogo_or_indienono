{
 "cells": [
  {
   "cell_type": "markdown",
   "metadata": {},
   "source": [
    "<header>\n",
    "    <h1>CA4010 - Data warehousing and Data mining</h1>\n",
    "    <h2>Continuous assessment project</h2>\n",
    "</header>\n",
    "<p>\n",
    "    For this project, we want to predict if a project submitted to \n",
    "    <a href=\"https://www.indiegogo.com\">indiegogo.com</a> will or will not be funded.\n",
    "    For this purpose, we'll use a\n",
    "    <a href=\"https://www.kaggle.com/kingburrito666/indiegogo-project-statistics/data\">\n",
    "    dataset from kaggle containing one year of indiegogo projects.</a>\n",
    "    The version used here is the concatenation of all csv files using the given 'combiner.py'.<br/>\n",
    "    However, some modifications has been made from combiner.py:\n",
    "    <ul>\n",
    "        <li>\n",
    "            One row was normalized : <i>in_forever_funding</i> was passed to 'True' instead of 'null' to avoid\n",
    "            type warning at loading time and use boolean type for this attribute.\n",
    "        </li>\n",
    "        <li>\n",
    "            The file was saved as tsv (tab separated values) instead of csv for a better readability.\n",
    "        </li>\n",
    "    </ul>\n",
    "</p>\n",
    "<p>\n",
    "    This notebook will decribe and show how we'll reduce the categories we have to a usable number\n",
    "</p>"
   ]
  },
  {
   "cell_type": "markdown",
   "metadata": {},
   "source": [
    "<h2>Make category consistent</h2>\n",
    "<p>We can check category_slug consistency</p>"
   ]
  },
  {
   "cell_type": "code",
   "execution_count": 1,
   "metadata": {},
   "outputs": [],
   "source": [
    "import pandas as pd"
   ]
  },
  {
   "cell_type": "code",
   "execution_count": 2,
   "metadata": {},
   "outputs": [],
   "source": [
    "indiegogo = pd.read_csv('indiegogo_cleaned_dataset.tsv', sep='\\t')"
   ]
  },
  {
   "cell_type": "code",
   "execution_count": 3,
   "metadata": {},
   "outputs": [
    {
     "name": "stdout",
     "output_type": "stream",
     "text": [
      "{'education', 'productivity', 'music', 'dance-theater', 'tabletop_games', 'video_web', 'photography', 'gaming', 'food-beverages', 'wellness', 'community_projects', 'religion', 'health-fitness', 'human_rights', 'community', 'food_beverages', 'video_games', 'audio', 'animal-rights', 'animal_rights', 'web-series-tv-shows', 'fashion', 'energy_green_tech', 'tech_innovation', 'travel_outdoors', 'fashion-wearables', 'video-games', 'theatre', 'energy-green-tech', 'technology', 'design', 'small_business', 'culture', 'writing_publishing', 'spirituality', 'health_fitness', 'podcasts_blogs_vlogs', 'health', 'food', 'politics', 'phones_accessories', 'sports', 'camera_gear', 'fashion_wearables', 'camera-gear', 'tech-innovation', 'comic', 'environment', 'travel-outdoors', 'writing-publishing', 'creative_works', 'local-businesses', 'community-projects', 'local_businesses', 'art', 'transportation', 'home', 'dance', 'web_series_tv_shows', 'dance_theater', 'podcasts-blogs-vlogs', 'phones-accessories', 'transmedia', 'human-rights', 'film', 'tabletop-games', 'comics', 'creative-works', 'writing', 'animals'}, 70\n"
     ]
    }
   ],
   "source": [
    "print(\"{}, {}\".format(set(indiegogo.category_slug), len(set(indiegogo.category_slug))))"
   ]
  },
  {
   "cell_type": "markdown",
   "metadata": {},
   "source": [
    "<p>\n",
    "    <b>70</b> categories is too much, it'll be unefficient to have a so high number of class for one attribute during the classification process ! Moreover we can see that many <b>category are duplicated</b> using '-' instead of '_'.\n",
    "Some categories <b>can also be aggregated</b>:\n",
    "    <ul>\n",
    "        <li>animals and animals right</li>\n",
    "        <li>comic and comics</li>\n",
    "        <li>community and community_projects</li>\n",
    "        <li>dance and dance_theater</li>\n",
    "        <li>fashion and fashion_wearable</li>\n",
    "        <li>food and food_beverage</li>\n",
    "        <li>tabletop_games, video_games and gaming with games</li>\n",
    "        <li>health, wellness and health_fitness</li>\n",
    "        <li>writing and writing_publishing</li>\n",
    "        <li>tech_innovation and energy_green_tech with technology</li>\n",
    "    </ul>\n",
    "</p>\n",
    "<p>Let's start by replacing all '-' by '_' to make our categories more consistent</p>"
   ]
  },
  {
   "cell_type": "code",
   "execution_count": 4,
   "metadata": {},
   "outputs": [
    {
     "name": "stdout",
     "output_type": "stream",
     "text": [
      "{'education', 'productivity', 'music', 'tabletop_games', 'video_web', 'photography', 'gaming', 'wellness', 'community_projects', 'religion', 'human_rights', 'community', 'food_beverages', 'video_games', 'audio', 'animal_rights', 'fashion', 'energy_green_tech', 'tech_innovation', 'travel_outdoors', 'theatre', 'technology', 'design', 'small_business', 'writing_publishing', 'phones_accessories', 'culture', 'spirituality', 'podcasts_blogs_vlogs', 'health', 'food', 'health_fitness', 'politics', 'sports', 'camera_gear', 'fashion_wearables', 'comic', 'environment', 'creative_works', 'local_businesses', 'art', 'transportation', 'dance', 'web_series_tv_shows', 'dance_theater', 'transmedia', 'film', 'comics', 'home', 'writing', 'animals'}, 51\n"
     ]
    }
   ],
   "source": [
    "indiegogo.category_slug = indiegogo.category_slug.apply(lambda x: x.replace('-', '_'))\n",
    "print(\"{}, {}\".format(set(indiegogo.category_slug), len(set(indiegogo.category_slug))))"
   ]
  },
  {
   "cell_type": "markdown",
   "metadata": {},
   "source": [
    "<p> We had remove <b>19 categories</b> with normalization only. It's better but <b>51 categories</b> is still a high number. Let's aggregate the related categories.</p>"
   ]
  },
  {
   "cell_type": "code",
   "execution_count": 5,
   "metadata": {},
   "outputs": [],
   "source": [
    "def aggregate_categories(category):\n",
    "    to_aggregate = {\n",
    "        \"animal_\": \"animals\",\n",
    "        \"community_\": \"community\",\n",
    "        \"dance_\": \"dance\",\n",
    "        \"fashion_\": \"fashion\",\n",
    "        \"food_\": \"food\",\n",
    "        \"comic\": \"comics\",\n",
    "        \"video_games\": \"games\",\n",
    "        \"gaming\": \"games\",\n",
    "        \"tabletop_games\": \"games\",\n",
    "        \"health_\": \"health\",\n",
    "        \"writing_\": \"writing\",\n",
    "        \"tech_\": \"technology\",\n",
    "        \"energy_green_tech\": \"technology\",\n",
    "        \"web_series_\": \"series\",\n",
    "        \"podcasts_\": \"podcast\",\n",
    "        \"wellness\": \"health\"\n",
    "        \n",
    "    }\n",
    "    for key in to_aggregate.keys():\n",
    "        if category.startswith(key):\n",
    "            return to_aggregate[key]\n",
    "    return category"
   ]
  },
  {
   "cell_type": "code",
   "execution_count": 6,
   "metadata": {},
   "outputs": [
    {
     "name": "stdout",
     "output_type": "stream",
     "text": [
      "{'education', 'productivity', 'music', 'video_web', 'photography', 'religion', 'human_rights', 'community', 'audio', 'fashion', 'travel_outdoors', 'theatre', 'technology', 'design', 'small_business', 'phones_accessories', 'culture', 'spirituality', 'health', 'food', 'podcast', 'politics', 'series', 'games', 'camera_gear', 'sports', 'environment', 'creative_works', 'local_businesses', 'art', 'transportation', 'dance', 'transmedia', 'film', 'comics', 'home', 'writing', 'animals'}, 38\n"
     ]
    }
   ],
   "source": [
    "indiegogo.category_slug = indiegogo.category_slug.apply(aggregate_categories)\n",
    "print(\"{}, {}\".format(set(indiegogo.category_slug), len(set(indiegogo.category_slug))))"
   ]
  },
  {
   "cell_type": "markdown",
   "metadata": {},
   "source": [
    "<p>It's better, we've decreased our categories number by <b>13</b> with aggregation. This we've still <b>38 categories left</b> which is still too high. Let's analyze the categories which are still in the list</p>"
   ]
  },
  {
   "cell_type": "markdown",
   "metadata": {},
   "source": [
    "<h2>Remove categories with the fewer projects</h2>\n",
    "<p>During the previous data cleaning, we've noticed that some categories contained <b>only a few projects</b>. Let's see if we can remove them and decrease the number of categories.</p>"
   ]
  },
  {
   "cell_type": "markdown",
   "metadata": {},
   "source": [
    "<p>Here is the number of projects with all categories. Ideally, we we'll want to have around <b>10 categories</b> to process without loosing too much data.</p>"
   ]
  },
  {
   "cell_type": "code",
   "execution_count": 7,
   "metadata": {},
   "outputs": [
    {
     "name": "stdout",
     "output_type": "stream",
     "text": [
      "139052 projects\n"
     ]
    }
   ],
   "source": [
    "print(\"{} projects\".format(indiegogo.shape[0]))"
   ]
  },
  {
   "cell_type": "markdown",
   "metadata": {},
   "source": [
    "<p>Here is the detail of the different categories. We can see that we can do a big cutoff by only taking categories with more than 200 or 300 projects. As we don't know at what point this cutoff will be wrong for our data, we'll try several cutoffs (some larger than the others) and see if it's better for us to keep more projects, less data or find another strategy to get less categories.</p>"
   ]
  },
  {
   "cell_type": "code",
   "execution_count": 8,
   "metadata": {},
   "outputs": [
    {
     "data": {
      "text/plain": [
       "film                  43239\n",
       "music                 17116\n",
       "local_businesses      16900\n",
       "education             15052\n",
       "dance                 11331\n",
       "art                    7058\n",
       "health                 6622\n",
       "writing                4895\n",
       "fashion                2879\n",
       "animals                2857\n",
       "environment            2411\n",
       "phones_accessories     1892\n",
       "games                  1755\n",
       "comics                 1002\n",
       "travel_outdoors         820\n",
       "home                    684\n",
       "photography             638\n",
       "productivity            346\n",
       "human_rights            340\n",
       "transportation          294\n",
       "camera_gear             185\n",
       "audio                   170\n",
       "technology              166\n",
       "food                    122\n",
       "community                75\n",
       "series                   61\n",
       "creative_works           53\n",
       "culture                  34\n",
       "design                   13\n",
       "spirituality             12\n",
       "small_business           11\n",
       "podcast                   6\n",
       "video_web                 5\n",
       "politics                  3\n",
       "religion                  2\n",
       "theatre                   1\n",
       "sports                    1\n",
       "transmedia                1\n",
       "Name: category_slug, dtype: int64"
      ]
     },
     "execution_count": 8,
     "metadata": {},
     "output_type": "execute_result"
    }
   ],
   "source": [
    "indiegogo['category_slug'].value_counts()"
   ]
  },
  {
   "cell_type": "markdown",
   "metadata": {},
   "source": [
    "<p>Now we'll process several cutoffs, starting by categories with less than 100 projects and increasing the number of projects by 100 until we reach a cutoff of the categories with less than 900 projects. Each cutoff will be saved in a tsv file for further analyses.</p>"
   ]
  },
  {
   "cell_type": "code",
   "execution_count": 9,
   "metadata": {
    "scrolled": true
   },
   "outputs": [
    {
     "name": "stdout",
     "output_type": "stream",
     "text": [
      "Remove categories with less than 100 projects...\n",
      "138774 projects and 24 categories left\n",
      "\n",
      "Remove categories with less than 200 projects...\n",
      "138131 projects and 20 categories left\n",
      "\n",
      "Remove categories with less than 300 projects...\n",
      "137837 projects and 19 categories left\n",
      "\n",
      "Remove categories with less than 400 projects...\n",
      "137151 projects and 17 categories left\n",
      "\n",
      "Remove categories with less than 500 projects...\n",
      "137151 projects and 17 categories left\n",
      "\n",
      "Remove categories with less than 600 projects...\n",
      "137151 projects and 17 categories left\n",
      "\n",
      "Remove categories with less than 700 projects...\n",
      "135829 projects and 15 categories left\n",
      "\n",
      "Remove categories with less than 800 projects...\n",
      "135829 projects and 15 categories left\n",
      "\n",
      "Remove categories with less than 900 projects...\n",
      "135009 projects and 14 categories left\n",
      "\n"
     ]
    }
   ],
   "source": [
    "categories = list(zip(indiegogo['category_slug'].value_counts().keys(), indiegogo['category_slug'].value_counts()))\n",
    "\n",
    "for threshold in range(100, 1000, 100):\n",
    "    categories_to_remove = [k for k, v in categories if v < threshold]\n",
    "    cleaned_data = indiegogo[~indiegogo.category_slug.isin(categories_to_remove)]\n",
    "    print(\"Remove categories with less than {} projects...\".format(threshold))\n",
    "    print(\"{} projects and {} categories left\\n\".format(cleaned_data.shape[0], \n",
    "                                                      cleaned_data.category_slug.value_counts().count()))\n",
    "    outfile = \"indiegogo_cleaned_dataset_{}.tsv\".format(threshold)\n",
    "    cleaned_data.to_csv(outfile, index=False, sep='\\t')"
   ]
  },
  {
   "cell_type": "code",
   "execution_count": null,
   "metadata": {},
   "outputs": [],
   "source": []
  }
 ],
 "metadata": {
  "kernelspec": {
   "display_name": "Python 3",
   "language": "python",
   "name": "python3"
  },
  "language_info": {
   "codemirror_mode": {
    "name": "ipython",
    "version": 3
   },
   "file_extension": ".py",
   "mimetype": "text/x-python",
   "name": "python",
   "nbconvert_exporter": "python",
   "pygments_lexer": "ipython3",
   "version": "3.6.2"
  }
 },
 "nbformat": 4,
 "nbformat_minor": 2
}
